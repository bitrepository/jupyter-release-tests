{
 "cells": [
  {
   "cell_type": "markdown",
   "metadata": {
    "deletable": true,
    "editable": true
   },
   "source": [
    " "
   ]
  },
  {
   "cell_type": "markdown",
   "metadata": {
    "deletable": true,
    "editable": true
   },
   "source": [
    "# Setup command line client"
   ]
  },
  {
   "cell_type": "markdown",
   "metadata": {},
   "source": [
    "The following is code to get the client and set it up."
   ]
  },
  {
   "cell_type": "markdown",
   "metadata": {},
   "source": [
    "First we jupyter bookmark the current dir"
   ]
  },
  {
   "cell_type": "code",
   "execution_count": 2,
   "metadata": {
    "ExecuteTime": {
     "end_time": "2017-03-09T14:34:40.627540",
     "start_time": "2017-03-09T14:34:40.611156"
    },
    "collapsed": false
   },
   "outputs": [
    {
     "data": {
      "text/plain": [
       "'/home/abr/Downloads/bitmag-release1.9-test'"
      ]
     },
     "execution_count": 2,
     "metadata": {},
     "output_type": "execute_result"
    }
   ],
   "source": [
    "%bookmark root\n",
    "import os\n",
    "os.getcwd()"
   ]
  },
  {
   "cell_type": "code",
   "execution_count": 3,
   "metadata": {
    "ExecuteTime": {
     "end_time": "2017-03-09T14:34:42.522613",
     "start_time": "2017-03-09T14:34:42.519478"
    },
    "collapsed": false,
    "deletable": true,
    "editable": true
   },
   "outputs": [],
   "source": [
    "#Some imports we will need later\n",
    "import random\n",
    "import string"
   ]
  },
  {
   "cell_type": "markdown",
   "metadata": {},
   "source": [
    "Switch back to root and set up the client name"
   ]
  },
  {
   "cell_type": "code",
   "execution_count": 4,
   "metadata": {
    "ExecuteTime": {
     "end_time": "2017-03-09T14:34:44.827051",
     "start_time": "2017-03-09T14:34:44.816958"
    },
    "collapsed": false,
    "deletable": true,
    "editable": true
   },
   "outputs": [
    {
     "name": "stdout",
     "output_type": "stream",
     "text": [
      "(bookmark:root) -> /home/abr/Downloads/bitmag-release1.9-test\n",
      "/home/abr/Downloads/bitmag-release1.9-test\n",
      "env: CLIENT=bitrepository-client-1.9-RC1\n",
      "Current bookmarks:\n",
      "CLIENT -> bitrepository-client-1.9-RC1\n",
      "root   -> /home/abr/Downloads/bitmag-release1.9-test\n"
     ]
    }
   ],
   "source": [
    "%cd -b root\n",
    "%bookmark CLIENT bitrepository-client-1.9-RC1\n",
    "%env CLIENT bitrepository-client-1.9-RC1\n",
    "%bookmark -l"
   ]
  },
  {
   "cell_type": "markdown",
   "metadata": {},
   "source": [
    "Download the client and unzip it"
   ]
  },
  {
   "cell_type": "code",
   "execution_count": 5,
   "metadata": {
    "ExecuteTime": {
     "end_time": "2017-03-09T14:34:49.665790",
     "start_time": "2017-03-09T14:34:49.527007"
    },
    "collapsed": false,
    "deletable": true,
    "editable": true
   },
   "outputs": [
    {
     "name": "stdout",
     "output_type": "stream",
     "text": [
      "/home/abr/Downloads/bitmag-release1.9-test\n"
     ]
    }
   ],
   "source": [
    "%%bash\n",
    "pwd\n",
    "wget -Nq \"https://sbforge.org/download/attachments/25395346/${CLIENT}.zip\"\n",
    "rm -rf ${CLIENT}\n",
    "unzip -q ${CLIENT}.zip"
   ]
  },
  {
   "cell_type": "markdown",
   "metadata": {},
   "source": [
    "Change directory to the unzipped client"
   ]
  },
  {
   "cell_type": "code",
   "execution_count": 6,
   "metadata": {
    "ExecuteTime": {
     "end_time": "2017-03-09T14:34:52.028109",
     "start_time": "2017-03-09T14:34:52.023660"
    },
    "collapsed": false,
    "deletable": true,
    "editable": true
   },
   "outputs": [
    {
     "name": "stdout",
     "output_type": "stream",
     "text": [
      "(bookmark:CLIENT) -> bitrepository-client-1.9-RC1\n",
      "/home/abr/Downloads/bitmag-release1.9-test/bitrepository-client-1.9-RC1\n"
     ]
    }
   ],
   "source": [
    "%cd -b CLIENT"
   ]
  },
  {
   "cell_type": "markdown",
   "metadata": {
    "deletable": true,
    "editable": true
   },
   "source": [
    "# Describes the tests needed to validate the PutFile functionality."
   ]
  },
  {
   "cell_type": "markdown",
   "metadata": {
    "deletable": true,
    "editable": true
   },
   "source": [
    "The commands presented are just examples of what the actual command to test with could look like."
   ]
  },
  {
   "cell_type": "markdown",
   "metadata": {
    "deletable": true,
    "editable": true
   },
   "source": [
    "## Basic put"
   ]
  },
  {
   "cell_type": "markdown",
   "metadata": {
    "deletable": true,
    "editable": true
   },
   "source": [
    "### Put a file to all pillars"
   ]
  },
  {
   "cell_type": "markdown",
   "metadata": {
    "deletable": true,
    "editable": true
   },
   "source": [
    "Run put command on a file which is not present in the collection."
   ]
  },
  {
   "cell_type": "code",
   "execution_count": 7,
   "metadata": {
    "ExecuteTime": {
     "end_time": "2017-03-09T14:34:57.058850",
     "start_time": "2017-03-09T14:34:57.055386"
    },
    "collapsed": false,
    "deletable": true,
    "editable": true
   },
   "outputs": [
    {
     "name": "stdout",
     "output_type": "stream",
     "text": [
      "env: TESTFILE1=logback.xml\n"
     ]
    }
   ],
   "source": [
    "%env TESTFILE1 logback.xml"
   ]
  },
  {
   "cell_type": "markdown",
   "metadata": {
    "deletable": true,
    "editable": true
   },
   "source": [
    "Check this by running "
   ]
  },
  {
   "cell_type": "code",
   "execution_count": 8,
   "metadata": {
    "ExecuteTime": {
     "end_time": "2017-03-09T14:35:03.419639",
     "start_time": "2017-03-09T14:34:59.840534"
    },
    "collapsed": false,
    "deletable": true,
    "editable": true
   },
   "outputs": [
    {
     "name": "stdout",
     "output_type": "stream",
     "text": [
      "Count: \tSize: \tFileID:\n",
      "5 \t641 \tlogback.xml\n"
     ]
    }
   ],
   "source": [
    "!bin/bitmag.sh get-file-ids -c integrationtest2 -i $TESTFILE1"
   ]
  },
  {
   "cell_type": "markdown",
   "metadata": {
    "deletable": true,
    "editable": true
   },
   "source": [
    "The response should be\n",
    "\n",
    "    Count: \tSize: \tFileID:\n",
    "\n",
    "Indicating that no pillar had the file.\n",
    "If the file is found, delete it with the following command"
   ]
  },
  {
   "cell_type": "code",
   "execution_count": 10,
   "metadata": {
    "ExecuteTime": {
     "end_time": "2017-03-09T14:35:34.224332",
     "start_time": "2017-03-09T14:35:21.121803"
    },
    "collapsed": false,
    "deletable": true,
    "editable": true
   },
   "outputs": [],
   "source": [
    "%%bash\n",
    "hash=$(cat conf/$TESTFILE1 | md5sum - | cut -d' ' -f1)\n",
    "bin/bitmag.sh delete -c integrationtest2 -i $TESTFILE1 -C $hash -p \"sbtape2\"\n",
    "bin/bitmag.sh delete -c integrationtest2 -i $TESTFILE1 -C $hash -p \"reference2\"\n",
    "bin/bitmag.sh delete -c integrationtest2 -i $TESTFILE1 -C $hash -p \"checksum2\"\n",
    "bin/bitmag.sh delete -c integrationtest2 -i $TESTFILE1 -C $hash -p \"sbdisk1\"\n",
    "bin/bitmag.sh delete -c integrationtest2 -i $TESTFILE1 -C $hash -p \"kbpillar2\""
   ]
  },
  {
   "cell_type": "code",
   "execution_count": 11,
   "metadata": {
    "ExecuteTime": {
     "end_time": "2017-03-09T14:35:41.561273",
     "start_time": "2017-03-09T14:35:37.394426"
    },
    "collapsed": false,
    "deletable": true,
    "editable": true
   },
   "outputs": [
    {
     "name": "stdout",
     "output_type": "stream",
     "text": [
      "Failure: f6834bdd: PUT_FILE for file logback.xml: FAILED: , Failed operation. Cause(s):\r\n",
      "[f6834bdd: PUT_FILE for file logback.xml: COMPONENT_FAILED: ContributorID kbpillar2 ResponseCode: FILE_TRANSFER_FAILURE, File transfer for logback.xml to http://int-bitmag-01.kb.dk:80/dav/logback.xml]\r\n"
     ]
    }
   ],
   "source": [
    "!bin/bitmag.sh put-file -c integrationtest2 -f conf/$TESTFILE1"
   ]
  },
  {
   "cell_type": "markdown",
   "metadata": {
    "deletable": true,
    "editable": true
   },
   "source": [
    "Verify that it is now present at all pillars, and that it has the same checksum at all pillars"
   ]
  },
  {
   "cell_type": "code",
   "execution_count": 12,
   "metadata": {
    "ExecuteTime": {
     "end_time": "2017-03-09T14:35:59.418011",
     "start_time": "2017-03-09T14:35:56.153884"
    },
    "collapsed": false,
    "deletable": true,
    "editable": true
   },
   "outputs": [
    {
     "name": "stdout",
     "output_type": "stream",
     "text": [
      "Count: \tSize: \tFileID:\n",
      "4 \t641 \tlogback.xml\n"
     ]
    }
   ],
   "source": [
    "!bin/bitmag.sh get-file-ids -c integrationtest2 -i $TESTFILE1"
   ]
  },
  {
   "cell_type": "code",
   "execution_count": 13,
   "metadata": {
    "ExecuteTime": {
     "end_time": "2017-03-09T14:36:07.726644",
     "start_time": "2017-03-09T14:36:04.185737"
    },
    "collapsed": false,
    "deletable": true,
    "editable": true
   },
   "outputs": [
    {
     "name": "stdout",
     "output_type": "stream",
     "text": [
      "Count: \tChecksum: \tPillars: \tFileID: \n",
      "4 \t3228f1d3684c39ed782af5f9e6aee1b0 \tAll \tlogback.xml\n"
     ]
    }
   ],
   "source": [
    "!bin/bitmag.sh get-checksums -c integrationtest2 -i $TESTFILE1"
   ]
  },
  {
   "cell_type": "markdown",
   "metadata": {
    "deletable": true,
    "editable": true
   },
   "source": [
    "### Put a file with a different file-id to all pillars"
   ]
  },
  {
   "cell_type": "markdown",
   "metadata": {
    "deletable": true,
    "editable": true
   },
   "source": [
    "Run put command on a file and use the file-id parameter (-i)"
   ]
  },
  {
   "cell_type": "code",
   "execution_count": 14,
   "metadata": {
    "ExecuteTime": {
     "end_time": "2017-03-09T14:36:35.765423",
     "start_time": "2017-03-09T14:36:35.761545"
    },
    "collapsed": false,
    "deletable": true,
    "editable": true
   },
   "outputs": [
    {
     "name": "stdout",
     "output_type": "stream",
     "text": [
      "env: TESTFILE2=EBX07MMSKU\n"
     ]
    }
   ],
   "source": [
    "RANDOMNAME=''.join(random.choice(string.ascii_uppercase + string.digits) for _ in range(10))\n",
    "%env TESTFILE2=$RANDOMNAME"
   ]
  },
  {
   "cell_type": "code",
   "execution_count": 15,
   "metadata": {
    "ExecuteTime": {
     "end_time": "2017-03-09T14:36:44.039433",
     "start_time": "2017-03-09T14:36:40.395792"
    },
    "collapsed": false,
    "deletable": true,
    "editable": true
   },
   "outputs": [],
   "source": [
    "!bin/bitmag.sh put-file -c integrationtest2 -f conf/$TESTFILE1 -i $TESTFILE2"
   ]
  },
  {
   "cell_type": "markdown",
   "metadata": {
    "deletable": true,
    "editable": true
   },
   "source": [
    "Verify that it is now present at all pillars, and that it has the same checksum at all pillars    "
   ]
  },
  {
   "cell_type": "code",
   "execution_count": 16,
   "metadata": {
    "ExecuteTime": {
     "end_time": "2017-03-09T14:36:49.810815",
     "start_time": "2017-03-09T14:36:46.220050"
    },
    "collapsed": false,
    "deletable": true,
    "editable": true
   },
   "outputs": [
    {
     "name": "stdout",
     "output_type": "stream",
     "text": [
      "Count: \tSize: \tFileID:\n",
      "5 \t641 \tEBX07MMSKU\n"
     ]
    }
   ],
   "source": [
    "!bin/bitmag.sh get-file-ids -c integrationtest2 -i $TESTFILE2"
   ]
  },
  {
   "cell_type": "code",
   "execution_count": 17,
   "metadata": {
    "ExecuteTime": {
     "end_time": "2017-03-09T14:36:55.816697",
     "start_time": "2017-03-09T14:36:52.466701"
    },
    "collapsed": false,
    "deletable": true,
    "editable": true
   },
   "outputs": [
    {
     "name": "stdout",
     "output_type": "stream",
     "text": [
      "Count: \tChecksum: \tPillars: \tFileID: \n",
      "5 \t3228f1d3684c39ed782af5f9e6aee1b0 \tAll \tEBX07MMSKU\n"
     ]
    }
   ],
   "source": [
    "!bin/bitmag.sh get-checksums -c integrationtest2 -i $TESTFILE2"
   ]
  },
  {
   "cell_type": "markdown",
   "metadata": {
    "deletable": true,
    "editable": true
   },
   "source": [
    "### Put a file by using an URL"
   ]
  },
  {
   "cell_type": "markdown",
   "metadata": {
    "deletable": true,
    "editable": true
   },
   "source": [
    "Use the URL and Checksum to put a file, already on the webdav server."
   ]
  },
  {
   "cell_type": "code",
   "execution_count": 18,
   "metadata": {
    "ExecuteTime": {
     "end_time": "2017-03-09T14:37:01.072434",
     "start_time": "2017-03-09T14:37:01.066203"
    },
    "collapsed": false,
    "deletable": true,
    "editable": true
   },
   "outputs": [
    {
     "name": "stdout",
     "output_type": "stream",
     "text": [
      "env: TESTFILE3=81K86TRWDP\n",
      "env: URL=http://sandkasse-01.kb.dk/dav/test.txt\n"
     ]
    }
   ],
   "source": [
    "RANDOMNAME=''.join(random.choice(string.ascii_uppercase + string.digits) for _ in range(10))\n",
    "%env TESTFILE3=$RANDOMNAME\n",
    "\n",
    "%env URL http://sandkasse-01.kb.dk/dav/test.txt"
   ]
  },
  {
   "cell_type": "code",
   "execution_count": 19,
   "metadata": {
    "ExecuteTime": {
     "end_time": "2017-03-09T14:37:07.815143",
     "start_time": "2017-03-09T14:37:03.916458"
    },
    "collapsed": false,
    "deletable": true,
    "editable": true
   },
   "outputs": [
    {
     "name": "stdout",
     "output_type": "stream",
     "text": [
      "md5: 940a51b250e7aa82d8e8ea31217ff267\n"
     ]
    }
   ],
   "source": [
    "%%bash\n",
    "hash=$(curl -s $URL | md5sum - | cut -d' ' -f1)\n",
    "echo \"md5: $hash\"\n",
    "bin/bitmag.sh put-file -c integrationtest2 -u $URL -i $TESTFILE3 -C $hash"
   ]
  },
  {
   "cell_type": "markdown",
   "metadata": {
    "deletable": true,
    "editable": true
   },
   "source": [
    "Verify that it is now present at al pillars, with the requested checksum"
   ]
  },
  {
   "cell_type": "code",
   "execution_count": 20,
   "metadata": {
    "ExecuteTime": {
     "end_time": "2017-03-09T14:37:16.765572",
     "start_time": "2017-03-09T14:37:13.347140"
    },
    "collapsed": false,
    "deletable": true,
    "editable": true
   },
   "outputs": [
    {
     "name": "stdout",
     "output_type": "stream",
     "text": [
      "Count: \tSize: \tFileID:\n",
      "5 \t27 \t81K86TRWDP\n"
     ]
    }
   ],
   "source": [
    "!bin/bitmag.sh get-file-ids -c integrationtest2 -i $TESTFILE3"
   ]
  },
  {
   "cell_type": "code",
   "execution_count": 21,
   "metadata": {
    "ExecuteTime": {
     "end_time": "2017-03-09T14:37:21.650139",
     "start_time": "2017-03-09T14:37:18.284185"
    },
    "collapsed": false,
    "deletable": true,
    "editable": true
   },
   "outputs": [
    {
     "name": "stdout",
     "output_type": "stream",
     "text": [
      "Count: \tChecksum: \tPillars: \tFileID: \n",
      "5 \t940a51b250e7aa82d8e8ea31217ff267 \tAll \t81K86TRWDP\n"
     ]
    }
   ],
   "source": [
    "!bin/bitmag.sh get-checksums -c integrationtest2 -i $TESTFILE3"
   ]
  },
  {
   "cell_type": "markdown",
   "metadata": {
    "deletable": true,
    "editable": true
   },
   "source": [
    "## Idempotent test"
   ]
  },
  {
   "cell_type": "markdown",
   "metadata": {
    "deletable": true,
    "editable": true
   },
   "source": [
    "### Attempt to put a file with an fileID that is already present in the collection suppling the same checksum"
   ]
  },
  {
   "cell_type": "markdown",
   "metadata": {
    "deletable": true,
    "editable": true
   },
   "source": [
    "The putFile request should succeed."
   ]
  },
  {
   "cell_type": "code",
   "execution_count": 22,
   "metadata": {
    "ExecuteTime": {
     "end_time": "2017-03-09T14:37:27.740874",
     "start_time": "2017-03-09T14:37:24.595129"
    },
    "collapsed": false,
    "deletable": true,
    "editable": true
   },
   "outputs": [],
   "source": [
    "!bin/bitmag.sh put-file -c integrationtest2 -f conf/$TESTFILE1"
   ]
  },
  {
   "cell_type": "markdown",
   "metadata": {
    "deletable": true,
    "editable": true
   },
   "source": [
    "## Put with returned checksums"
   ]
  },
  {
   "cell_type": "markdown",
   "metadata": {
    "deletable": true,
    "editable": true
   },
   "source": [
    "### Put a file including a request of a salted checksum calculated on the pillar, which should be returned."
   ]
  },
  {
   "cell_type": "code",
   "execution_count": 23,
   "metadata": {
    "ExecuteTime": {
     "end_time": "2017-03-09T14:37:31.001084",
     "start_time": "2017-03-09T14:37:30.947568"
    },
    "collapsed": false,
    "deletable": true,
    "editable": true
   },
   "outputs": [
    {
     "name": "stdout",
     "output_type": "stream",
     "text": [
      "5bb8cf7554e747f7ab8bd09a910b680bf889d959\n"
     ]
    }
   ],
   "source": [
    "import hmac\n",
    "import hashlib\n",
    "import urllib.request\n",
    "\n",
    "def getSaltedChecksum(url,salt,algorithm):\n",
    "    saltBytes = bytes.fromhex(salt)\n",
    "    digester = hmac.new(saltBytes,None,algorithm)\n",
    "    with urllib.request.urlopen(url) as from_fh:\n",
    "        while True:\n",
    "            chunk = from_fh.read()\n",
    "            if not chunk:\n",
    "                break\n",
    "            digester.update(chunk)\n",
    "    return digester.hexdigest().lower()\n",
    "\n",
    "saltedChecksum=getSaltedChecksum(url=os.environ.get(\"URL\"),salt='abcd',algorithm=hashlib.sha1)\n",
    "print(saltedChecksum)"
   ]
  },
  {
   "cell_type": "markdown",
   "metadata": {
    "deletable": true,
    "editable": true
   },
   "source": [
    "Use the request-checksum-algorithm and request-checksum-salt arguments (-R and -S):"
   ]
  },
  {
   "cell_type": "code",
   "execution_count": 24,
   "metadata": {
    "ExecuteTime": {
     "end_time": "2017-03-09T14:37:33.720394",
     "start_time": "2017-03-09T14:37:33.715684"
    },
    "collapsed": false
   },
   "outputs": [
    {
     "name": "stdout",
     "output_type": "stream",
     "text": [
      "env: TESTFILE4=VO78OYQOLG\n"
     ]
    }
   ],
   "source": [
    "RANDOMNAME=''.join(random.choice(string.ascii_uppercase + string.digits) for _ in range(10))\n",
    "%env TESTFILE4=$RANDOMNAME"
   ]
  },
  {
   "cell_type": "markdown",
   "metadata": {},
   "source": [
    "Note, this will return the stored MD5 hashes, if the file is already put'et"
   ]
  },
  {
   "cell_type": "code",
   "execution_count": 25,
   "metadata": {
    "ExecuteTime": {
     "end_time": "2017-03-09T14:37:45.339184",
     "start_time": "2017-03-09T14:37:42.027630"
    },
    "collapsed": false,
    "deletable": true,
    "editable": true
   },
   "outputs": [
    {
     "name": "stdout",
     "output_type": "stream",
     "text": [
      "md5: 940a51b250e7aa82d8e8ea31217ff267\n",
      "PillarId \t Checksum\n",
      "kbpillar2 \t 5bb8cf7554e747f7ab8bd09a910b680bf889d959\n",
      "sbtape2 \t 5bb8cf7554e747f7ab8bd09a910b680bf889d959\n",
      "reference2 \t 5bb8cf7554e747f7ab8bd09a910b680bf889d959\n",
      "sbdisk1 \t 5bb8cf7554e747f7ab8bd09a910b680bf889d959\n"
     ]
    }
   ],
   "source": [
    "%%bash\n",
    "hash=$(curl -s $URL | md5sum - | cut -d' ' -f1)\n",
    "echo \"md5: $hash\"\n",
    "bin/bitmag.sh put-file -c integrationtest2 -u $URL -i $TESTFILE4 -C $hash -S 'abcd' -R HMAC_SHA1"
   ]
  },
  {
   "cell_type": "markdown",
   "metadata": {
    "deletable": true,
    "editable": true
   },
   "source": [
    "Verify that the checksumpillar does not reply with a checksum."
   ]
  },
  {
   "cell_type": "code",
   "execution_count": 26,
   "metadata": {
    "ExecuteTime": {
     "end_time": "2017-03-09T14:37:55.091918",
     "start_time": "2017-03-09T14:37:51.899138"
    },
    "collapsed": false,
    "deletable": true,
    "editable": true
   },
   "outputs": [
    {
     "name": "stdout",
     "output_type": "stream",
     "text": [
      "Count: \tChecksum: \tPillars: \tFileID: \n",
      "4 \t5bb8cf7554e747f7ab8bd09a910b680bf889d959 \tAll \tVO78OYQOLG\n"
     ]
    }
   ],
   "source": [
    "!bin/bitmag.sh get-checksums -c integrationtest2 -i $TESTFILE4 -R HMAC_SHA1 -S 'abcd'"
   ]
  },
  {
   "cell_type": "markdown",
   "metadata": {
    "deletable": true,
    "editable": true
   },
   "source": [
    "Verify that the checksumpillar and all the other pillars have the file"
   ]
  },
  {
   "cell_type": "code",
   "execution_count": 27,
   "metadata": {
    "ExecuteTime": {
     "end_time": "2017-03-09T14:38:00.498967",
     "start_time": "2017-03-09T14:37:57.163337"
    },
    "collapsed": false,
    "deletable": true,
    "editable": true
   },
   "outputs": [
    {
     "name": "stdout",
     "output_type": "stream",
     "text": [
      "Count: \tSize: \tFileID:\n",
      "5 \t27 \tVO78OYQOLG\n"
     ]
    }
   ],
   "source": [
    "!bin/bitmag.sh get-file-ids -c integrationtest2 -i $TESTFILE4"
   ]
  },
  {
   "cell_type": "markdown",
   "metadata": {
    "deletable": true,
    "editable": true
   },
   "source": [
    "### Put a file including a request for checksum, but using both a salt and a non-salt algorithm."
   ]
  },
  {
   "cell_type": "markdown",
   "metadata": {
    "deletable": true,
    "editable": true
   },
   "source": [
    "Use the request-checksum-algorithm and request-checksum-salt arguments (-R and -S):"
   ]
  },
  {
   "cell_type": "code",
   "execution_count": 28,
   "metadata": {
    "ExecuteTime": {
     "end_time": "2017-03-09T14:38:09.407879",
     "start_time": "2017-03-09T14:38:09.403582"
    },
    "collapsed": false
   },
   "outputs": [
    {
     "name": "stdout",
     "output_type": "stream",
     "text": [
      "env: TESTFILE5=BUDOXER44F\n"
     ]
    }
   ],
   "source": [
    "RANDOMNAME=''.join(random.choice(string.ascii_uppercase + string.digits) for _ in range(10))\n",
    "%env TESTFILE5=$RANDOMNAME"
   ]
  },
  {
   "cell_type": "code",
   "execution_count": 29,
   "metadata": {
    "ExecuteTime": {
     "end_time": "2017-03-09T14:38:15.186805",
     "start_time": "2017-03-09T14:38:11.796628"
    },
    "collapsed": false,
    "deletable": true,
    "editable": true
   },
   "outputs": [
    {
     "name": "stdout",
     "output_type": "stream",
     "text": [
      "md5: 940a51b250e7aa82d8e8ea31217ff267\n",
      "PillarId \t Checksum\n",
      "kbpillar2 \t 5bb8cf7554e747f7ab8bd09a910b680bf889d959\n",
      "sbtape2 \t 5bb8cf7554e747f7ab8bd09a910b680bf889d959\n",
      "reference2 \t 5bb8cf7554e747f7ab8bd09a910b680bf889d959\n",
      "sbdisk1 \t 5bb8cf7554e747f7ab8bd09a910b680bf889d959\n"
     ]
    }
   ],
   "source": [
    "%%bash\n",
    "hash=$(curl -s $URL | md5sum - | cut -d' ' -f1)\n",
    "echo \"md5: $hash\"\n",
    "bin/bitmag.sh put-file -c integrationtest2 -u $URL -i $TESTFILE5 -C $hash -R SHA1 -S 'abcd'"
   ]
  },
  {
   "cell_type": "markdown",
   "metadata": {
    "deletable": true,
    "editable": true
   },
   "source": [
    "Verify that all the data pillars return the same checksum, and that it is identical to the previous test (where '-R HMAC_SHA1')"
   ]
  },
  {
   "cell_type": "markdown",
   "metadata": {
    "deletable": true,
    "editable": true
   },
   "source": [
    "### Put a file including a request for checksum, but using a salt algorithm but not giving a salt."
   ]
  },
  {
   "cell_type": "markdown",
   "metadata": {
    "deletable": true,
    "editable": true
   },
   "source": [
    "Use the request-checksum-algorithm and request-checksum-salt arguments (-R and no -S):"
   ]
  },
  {
   "cell_type": "code",
   "execution_count": 30,
   "metadata": {
    "ExecuteTime": {
     "end_time": "2017-03-09T14:38:27.912102",
     "start_time": "2017-03-09T14:38:24.371637"
    },
    "collapsed": false,
    "deletable": true,
    "editable": true
   },
   "outputs": [
    {
     "name": "stdout",
     "output_type": "stream",
     "text": [
      "md5: 940a51b250e7aa82d8e8ea31217ff267\n",
      "sha1: 82b4b156a5db351e278e3a8e5d3e762deca45fdb\n",
      "Count: \tChecksum: \tPillars: \tFileID: \n",
      "5 \t940a51b250e7aa82d8e8ea31217ff267 \tAll \tBUDOXER44F\n"
     ]
    }
   ],
   "source": [
    "%%bash\n",
    "hash=$(curl -s $URL | md5sum - | cut -d' ' -f1)\n",
    "echo \"md5: $hash\"\n",
    "hash=$(curl -s $URL | sha1sum - | cut -d' ' -f1)\n",
    "echo \"sha1: $hash\"\n",
    "bin/bitmag.sh get-checksums -c integrationtest2 -i $TESTFILE5"
   ]
  },
  {
   "cell_type": "markdown",
   "metadata": {
    "deletable": true,
    "editable": true
   },
   "source": [
    "Verify that the data pillars all deliver the same checksum, which must be different from the checksum in the previous two tests."
   ]
  },
  {
   "cell_type": "markdown",
   "metadata": {
    "deletable": true,
    "editable": true
   },
   "source": [
    "## Error scenarios"
   ]
  },
  {
   "cell_type": "markdown",
   "metadata": {
    "deletable": true,
    "editable": true
   },
   "source": [
    "### Attempt to put a file with an fileID that is already present in the collection (ensure that the file has a different checksum from the already archived)"
   ]
  },
  {
   "cell_type": "markdown",
   "metadata": {
    "deletable": true,
    "editable": true
   },
   "source": [
    "The putFile request should fail informing the user that a file with the given file ID already exists in the collection."
   ]
  },
  {
   "cell_type": "code",
   "execution_count": 31,
   "metadata": {
    "ExecuteTime": {
     "end_time": "2017-03-09T14:38:35.191764",
     "start_time": "2017-03-09T14:38:32.724353"
    },
    "collapsed": false,
    "deletable": true,
    "editable": true
   },
   "outputs": [
    {
     "name": "stdout",
     "output_type": "stream",
     "text": [
      "Failure: 811e91d7: PUT_FILE for file logback.xml: FAILED: , Can not put file logback.xml, as an different file already exists on pillar kbpillar2\r\n"
     ]
    }
   ],
   "source": [
    "!bin/bitmag.sh put-file -c integrationtest2 -f conf/RepositorySettings.xml -i $TESTFILE1"
   ]
  },
  {
   "cell_type": "markdown",
   "metadata": {
    "deletable": true,
    "editable": true
   },
   "source": [
    "### Attempt to put a file which does not exist"
   ]
  },
  {
   "cell_type": "markdown",
   "metadata": {
    "deletable": true,
    "editable": true
   },
   "source": [
    "Client should fail immediately"
   ]
  },
  {
   "cell_type": "code",
   "execution_count": 32,
   "metadata": {
    "ExecuteTime": {
     "end_time": "2017-03-09T14:38:41.211979",
     "start_time": "2017-03-09T14:38:39.300302"
    },
    "collapsed": false,
    "deletable": true,
    "editable": true
   },
   "outputs": [
    {
     "name": "stdout",
     "output_type": "stream",
     "text": [
      "java.lang.IllegalArgumentException: The file 'ThisFileDoesNotExist' is invalid. It does not exists or it is a directory.\r\n",
      "\tat org.bitrepository.commandline.CommandLineClient.findTheFile(CommandLineClient.java:283)\r\n",
      "\tat org.bitrepository.commandline.CommandLineClient.getURLOrUploadFile(CommandLineClient.java:329)\r\n",
      "\tat org.bitrepository.commandline.PutFileCmd.putTheFile(PutFileCmd.java:159)\r\n",
      "\tat org.bitrepository.commandline.PutFileCmd.performOperation(PutFileCmd.java:86)\r\n",
      "\tat org.bitrepository.commandline.CommandLineClient.runCommand(CommandLineClient.java:68)\r\n",
      "\tat org.bitrepository.commandline.PutFileCmd.main(PutFileCmd.java:50)\r\n"
     ]
    }
   ],
   "source": [
    "!bin/bitmag.sh put-file -c integrationtest2 -f ThisFileDoesNotExist"
   ]
  },
  {
   "cell_type": "markdown",
   "metadata": {
    "deletable": true,
    "editable": true
   },
   "source": [
    "### Attempt to put a file to a non-existing collection"
   ]
  },
  {
   "cell_type": "markdown",
   "metadata": {
    "deletable": true,
    "editable": true
   },
   "source": [
    "Client should fail immediately"
   ]
  },
  {
   "cell_type": "code",
   "execution_count": 33,
   "metadata": {
    "ExecuteTime": {
     "end_time": "2017-03-09T14:38:45.390477",
     "start_time": "2017-03-09T14:38:44.332513"
    },
    "collapsed": false,
    "deletable": true,
    "editable": true
   },
   "outputs": [
    {
     "name": "stdout",
     "output_type": "stream",
     "text": [
      "Invalid argument: integrationtest3 is not a valid collection.\r\n",
      "The following collections are defined: [integrationtest1, integrationtest2, reklamefilm, dvd, avis, netarkiv]\r\n"
     ]
    }
   ],
   "source": [
    "!bin/bitmag.sh put-file -c integrationtest3 -i $TESTFILE1"
   ]
  },
  {
   "cell_type": "markdown",
   "metadata": {
    "deletable": true,
    "editable": true
   },
   "source": [
    "### Attempt to put a file to a non-existing pillar"
   ]
  },
  {
   "cell_type": "markdown",
   "metadata": {
    "deletable": true,
    "editable": true
   },
   "source": [
    "Client should fail immediately"
   ]
  },
  {
   "cell_type": "code",
   "execution_count": 34,
   "metadata": {
    "ExecuteTime": {
     "end_time": "2017-03-09T14:38:48.864564",
     "start_time": "2017-03-09T14:38:47.811506"
    },
    "collapsed": false,
    "deletable": true,
    "editable": true
   },
   "outputs": [
    {
     "name": "stdout",
     "output_type": "stream",
     "text": [
      "Invalid argument: non-existing-pillar is not a valid pillar for collection integrationtest1\r\n",
      "The collection contains the following pillars: [sbtape2, reference2, checksum2, sbdisk1, kbpillar2]\r\n"
     ]
    }
   ],
   "source": [
    "!bin/bitmag.sh put-file -c integrationtest1 -i $TESTFILE1 -p non-existing-pillar"
   ]
  }
 ],
 "metadata": {
  "kernelspec": {
   "display_name": "Python 3",
   "language": "python",
   "name": "python3"
  },
  "language_info": {
   "codemirror_mode": {
    "name": "ipython",
    "version": 3
   },
   "file_extension": ".py",
   "mimetype": "text/x-python",
   "name": "python",
   "nbconvert_exporter": "python",
   "pygments_lexer": "ipython3",
   "version": "3.5.2+"
  },
  "toc": {
   "colors": {
    "hover_highlight": "#DAA520",
    "running_highlight": "#FF0000",
    "selected_highlight": "#FFD700"
   },
   "moveMenuLeft": true,
   "nav_menu": {
    "height": "333px",
    "width": "252px"
   },
   "navigate_menu": true,
   "number_sections": true,
   "sideBar": true,
   "threshold": 4,
   "toc_cell": false,
   "toc_section_display": "block",
   "toc_window_display": true
  }
 },
 "nbformat": 4,
 "nbformat_minor": 2
}
