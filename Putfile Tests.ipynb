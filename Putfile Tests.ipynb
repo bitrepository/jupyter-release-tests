{
 "cells": [
  {
   "cell_type": "markdown",
   "metadata": {
    "deletable": true,
    "editable": true
   },
   "source": [
    " "
   ]
  },
  {
   "cell_type": "markdown",
   "metadata": {
    "deletable": true,
    "editable": true
   },
   "source": [
    "# Setup command line client"
   ]
  },
  {
   "cell_type": "markdown",
   "metadata": {
    "deletable": true,
    "editable": true
   },
   "source": [
    "The following is code to get the client and set it up."
   ]
  },
  {
   "cell_type": "code",
   "execution_count": 3,
   "metadata": {
    "ExecuteTime": {
     "end_time": "2017-03-09T16:37:09.726726Z",
     "start_time": "2017-03-09T17:37:09.421156+01:00"
    },
    "collapsed": false,
    "deletable": true,
    "editable": true,
    "init_cell": true
   },
   "outputs": [
    {
     "name": "stdout",
     "output_type": "stream",
     "text": [
      "env: CLIENT=bitrepository-client-1.9-RC1\n"
     ]
    }
   ],
   "source": [
    "%env CLIENT bitrepository-client-1.9-RC1\n",
    "\n",
    "!wget -Nq \"https://sbforge.org/download/attachments/25395346/${CLIENT}.zip\"\n",
    "!unzip -quo ${CLIENT}.zip\n",
    "\n",
    "%alias bitmag ${CLIENT}/bin/bitmag.sh %l"
   ]
  },
  {
   "cell_type": "code",
   "execution_count": 4,
   "metadata": {
    "ExecuteTime": {
     "end_time": "2017-03-09T16:37:09.734261Z",
     "start_time": "2017-03-09T17:37:09.728498+01:00"
    },
    "collapsed": false,
    "deletable": true,
    "editable": true,
    "init_cell": true
   },
   "outputs": [],
   "source": [
    "#Some imports we will need later\n",
    "import random\n",
    "import string"
   ]
  },
  {
   "cell_type": "markdown",
   "metadata": {
    "deletable": true,
    "editable": true
   },
   "source": [
    "# Describes the tests needed to validate the PutFile functionality."
   ]
  },
  {
   "cell_type": "markdown",
   "metadata": {
    "deletable": true,
    "editable": true
   },
   "source": [
    "The commands presented are just examples of what the actual command to test with could look like."
   ]
  },
  {
   "cell_type": "markdown",
   "metadata": {
    "deletable": true,
    "editable": true
   },
   "source": [
    "## Basic put"
   ]
  },
  {
   "cell_type": "markdown",
   "metadata": {
    "deletable": true,
    "editable": true
   },
   "source": [
    "### Put a file to all pillars"
   ]
  },
  {
   "cell_type": "markdown",
   "metadata": {
    "deletable": true,
    "editable": true
   },
   "source": [
    "Run put command on a file which is not present in the collection."
   ]
  },
  {
   "cell_type": "code",
   "execution_count": 5,
   "metadata": {
    "ExecuteTime": {
     "end_time": "2017-03-09T16:37:09.742018Z",
     "start_time": "2017-03-09T17:37:09.737972+01:00"
    },
    "collapsed": false,
    "deletable": true,
    "editable": true
   },
   "outputs": [],
   "source": [
    "TESTFILE1='README.md'"
   ]
  },
  {
   "cell_type": "markdown",
   "metadata": {
    "deletable": true,
    "editable": true
   },
   "source": [
    "Check this by running "
   ]
  },
  {
   "cell_type": "code",
   "execution_count": 6,
   "metadata": {
    "ExecuteTime": {
     "end_time": "2017-03-09T16:37:13.803535Z",
     "start_time": "2017-03-09T17:37:09.744352+01:00"
    },
    "collapsed": false,
    "deletable": true,
    "editable": true
   },
   "outputs": [
    {
     "name": "stdout",
     "output_type": "stream",
     "text": [
      "Count: \tSize: \tFileID:\n",
      "5 \t4141 \tREADME.md\n"
     ]
    }
   ],
   "source": [
    "%bitmag get-file-ids -c integrationtest2 -i {TESTFILE1}"
   ]
  },
  {
   "cell_type": "markdown",
   "metadata": {
    "deletable": true,
    "editable": true
   },
   "source": [
    "The response should be\n",
    "\n",
    "    Count: \tSize: \tFileID:\n",
    "\n",
    "Indicating that no pillar had the file.\n",
    "If the file is found, delete it with the following command"
   ]
  },
  {
   "cell_type": "markdown",
   "metadata": {},
   "source": [
    "See https://www.safaribooksonline.com/blog/2014/02/12/using-shell-commands-effectively-ipython/ for how this works"
   ]
  },
  {
   "cell_type": "code",
   "execution_count": 7,
   "metadata": {
    "ExecuteTime": {
     "end_time": "2017-03-09T16:37:29.528306Z",
     "start_time": "2017-03-09T17:37:13.806493+01:00"
    },
    "collapsed": false
   },
   "outputs": [
    {
     "name": "stdout",
     "output_type": "stream",
     "text": [
      "md5: ['e3815360b4db52d61191d985b79a208c']\n"
     ]
    }
   ],
   "source": [
    "hash=!cat {TESTFILE1} | md5sum - | cut -d' ' -f1\n",
    "print(\"md5: {}\".format(hash))\n",
    "\n",
    "%bitmag delete -c integrationtest2 -i {TESTFILE1} -C {hash.s} -p \"sbtape2\"\n",
    "%bitmag delete -c integrationtest2 -i {TESTFILE1} -C {hash.s}  -p \"reference2\"\n",
    "%bitmag delete -c integrationtest2 -i {TESTFILE1} -C {hash.s}  -p \"checksum2\"\n",
    "%bitmag delete -c integrationtest2 -i {TESTFILE1} -C {hash.s}  -p \"sbdisk1\"\n",
    "%bitmag delete -c integrationtest2 -i {TESTFILE1} -C {hash.s}  -p \"kbpillar2\""
   ]
  },
  {
   "cell_type": "code",
   "execution_count": 8,
   "metadata": {
    "ExecuteTime": {
     "end_time": "2017-03-09T16:37:33.909185Z",
     "start_time": "2017-03-09T17:37:29.530149+01:00"
    },
    "collapsed": false,
    "deletable": true,
    "editable": true
   },
   "outputs": [],
   "source": [
    "%bitmag put-file -c integrationtest2 -f {TESTFILE1}"
   ]
  },
  {
   "cell_type": "markdown",
   "metadata": {
    "deletable": true,
    "editable": true
   },
   "source": [
    "Verify that it is now present at all pillars, and that it has the same checksum at all pillars"
   ]
  },
  {
   "cell_type": "code",
   "execution_count": 9,
   "metadata": {
    "ExecuteTime": {
     "end_time": "2017-03-09T16:37:37.912274Z",
     "start_time": "2017-03-09T17:37:33.911164+01:00"
    },
    "collapsed": false,
    "deletable": true,
    "editable": true
   },
   "outputs": [
    {
     "name": "stdout",
     "output_type": "stream",
     "text": [
      "Count: \tSize: \tFileID:\n",
      "5 \t4141 \tREADME.md\n"
     ]
    }
   ],
   "source": [
    "%bitmag get-file-ids -c integrationtest2 -i {TESTFILE1}"
   ]
  },
  {
   "cell_type": "code",
   "execution_count": 10,
   "metadata": {
    "ExecuteTime": {
     "end_time": "2017-03-09T16:37:42.118419Z",
     "start_time": "2017-03-09T17:37:37.914369+01:00"
    },
    "collapsed": false,
    "deletable": true,
    "editable": true
   },
   "outputs": [
    {
     "name": "stdout",
     "output_type": "stream",
     "text": [
      "Count: \tChecksum: \tPillars: \tFileID: \n",
      "5 \te3815360b4db52d61191d985b79a208c \tAll \tREADME.md\n"
     ]
    }
   ],
   "source": [
    "%bitmag get-checksums -c integrationtest2 -i {TESTFILE1}"
   ]
  },
  {
   "cell_type": "markdown",
   "metadata": {
    "deletable": true,
    "editable": true
   },
   "source": [
    "### Put a file with a different file-id to all pillars"
   ]
  },
  {
   "cell_type": "markdown",
   "metadata": {
    "deletable": true,
    "editable": true
   },
   "source": [
    "Run put command on a file and use the file-id parameter (-i)"
   ]
  },
  {
   "cell_type": "code",
   "execution_count": 11,
   "metadata": {
    "ExecuteTime": {
     "end_time": "2017-03-09T16:37:42.128689Z",
     "start_time": "2017-03-09T17:37:42.121685+01:00"
    },
    "collapsed": false,
    "deletable": true,
    "editable": true
   },
   "outputs": [],
   "source": [
    "TESTFILE2=''.join(random.choice(string.ascii_uppercase + string.digits) for _ in range(10))"
   ]
  },
  {
   "cell_type": "code",
   "execution_count": 12,
   "metadata": {
    "ExecuteTime": {
     "end_time": "2017-03-09T16:37:46.983565Z",
     "start_time": "2017-03-09T17:37:42.130756+01:00"
    },
    "collapsed": false,
    "deletable": true,
    "editable": true
   },
   "outputs": [],
   "source": [
    "%bitmag put-file -c integrationtest2 -f {TESTFILE1} -i {TESTFILE2}"
   ]
  },
  {
   "cell_type": "markdown",
   "metadata": {
    "deletable": true,
    "editable": true
   },
   "source": [
    "Verify that it is now present at all pillars, and that it has the same checksum at all pillars    "
   ]
  },
  {
   "cell_type": "code",
   "execution_count": 13,
   "metadata": {
    "ExecuteTime": {
     "end_time": "2017-03-09T16:37:51.240651Z",
     "start_time": "2017-03-09T17:37:46.985476+01:00"
    },
    "collapsed": false,
    "deletable": true,
    "editable": true
   },
   "outputs": [
    {
     "name": "stdout",
     "output_type": "stream",
     "text": [
      "Count: \tSize: \tFileID:\n",
      "5 \t4141 \tVI3MM22C2P\n"
     ]
    }
   ],
   "source": [
    "%bitmag get-file-ids -c integrationtest2 -i {TESTFILE2}"
   ]
  },
  {
   "cell_type": "code",
   "execution_count": 14,
   "metadata": {
    "ExecuteTime": {
     "end_time": "2017-03-09T16:37:55.723134Z",
     "start_time": "2017-03-09T17:37:51.242245+01:00"
    },
    "collapsed": false,
    "deletable": true,
    "editable": true
   },
   "outputs": [
    {
     "name": "stdout",
     "output_type": "stream",
     "text": [
      "Count: \tChecksum: \tPillars: \tFileID: \n",
      "5 \te3815360b4db52d61191d985b79a208c \tAll \tVI3MM22C2P\n"
     ]
    }
   ],
   "source": [
    "%bitmag get-checksums -c integrationtest2 -i {TESTFILE2}"
   ]
  },
  {
   "cell_type": "markdown",
   "metadata": {
    "deletable": true,
    "editable": true
   },
   "source": [
    "### Put a file by using an URL"
   ]
  },
  {
   "cell_type": "markdown",
   "metadata": {
    "deletable": true,
    "editable": true
   },
   "source": [
    "Use the URL and Checksum to put a file, already on the webdav server."
   ]
  },
  {
   "cell_type": "code",
   "execution_count": 15,
   "metadata": {
    "ExecuteTime": {
     "end_time": "2017-03-09T16:37:55.731532Z",
     "start_time": "2017-03-09T17:37:55.725495+01:00"
    },
    "collapsed": false,
    "deletable": true,
    "editable": true
   },
   "outputs": [],
   "source": [
    "TESTFILE3=''.join(random.choice(string.ascii_uppercase + string.digits) for _ in range(10))\n",
    "URL='http://sandkasse-01.kb.dk/dav/test.txt'"
   ]
  },
  {
   "cell_type": "code",
   "execution_count": 16,
   "metadata": {
    "ExecuteTime": {
     "end_time": "2017-03-09T16:37:59.845828Z",
     "start_time": "2017-03-09T17:37:55.732975+01:00"
    },
    "collapsed": false,
    "deletable": true,
    "editable": true
   },
   "outputs": [
    {
     "name": "stdout",
     "output_type": "stream",
     "text": [
      "md5: ['940a51b250e7aa82d8e8ea31217ff267']\n"
     ]
    }
   ],
   "source": [
    "hash=!curl -s {URL} | md5sum - | cut -d' ' -f1\n",
    "print(\"md5: {}\".format(hash))\n",
    "%bitmag put-file -c integrationtest2 -u {URL} -i {TESTFILE3} -C {hash.s}"
   ]
  },
  {
   "cell_type": "markdown",
   "metadata": {
    "deletable": true,
    "editable": true
   },
   "source": [
    "Verify that it is now present at al pillars, with the requested checksum"
   ]
  },
  {
   "cell_type": "code",
   "execution_count": 17,
   "metadata": {
    "ExecuteTime": {
     "end_time": "2017-03-09T16:38:04.274842Z",
     "start_time": "2017-03-09T17:37:59.847911+01:00"
    },
    "collapsed": false,
    "deletable": true,
    "editable": true
   },
   "outputs": [
    {
     "name": "stdout",
     "output_type": "stream",
     "text": [
      "Count: \tSize: \tFileID:\n",
      "5 \t27 \t18A58S6PNM\n"
     ]
    }
   ],
   "source": [
    "%bitmag get-file-ids -c integrationtest2 -i {TESTFILE3}"
   ]
  },
  {
   "cell_type": "code",
   "execution_count": 18,
   "metadata": {
    "ExecuteTime": {
     "end_time": "2017-03-09T16:38:08.672263Z",
     "start_time": "2017-03-09T17:38:04.276603+01:00"
    },
    "collapsed": false,
    "deletable": true,
    "editable": true
   },
   "outputs": [
    {
     "name": "stdout",
     "output_type": "stream",
     "text": [
      "Count: \tChecksum: \tPillars: \tFileID: \n",
      "5 \t940a51b250e7aa82d8e8ea31217ff267 \tAll \t18A58S6PNM\n"
     ]
    }
   ],
   "source": [
    "%bitmag get-checksums -c integrationtest2 -i {TESTFILE3}"
   ]
  },
  {
   "cell_type": "markdown",
   "metadata": {
    "deletable": true,
    "editable": true
   },
   "source": [
    "## Idempotent test"
   ]
  },
  {
   "cell_type": "markdown",
   "metadata": {
    "deletable": true,
    "editable": true
   },
   "source": [
    "### Attempt to put a file with an fileID that is already present in the collection suppling the same checksum"
   ]
  },
  {
   "cell_type": "markdown",
   "metadata": {
    "deletable": true,
    "editable": true
   },
   "source": [
    "The putFile request should succeed."
   ]
  },
  {
   "cell_type": "code",
   "execution_count": 19,
   "metadata": {
    "ExecuteTime": {
     "end_time": "2017-03-09T16:38:12.215903Z",
     "start_time": "2017-03-09T17:38:08.677056+01:00"
    },
    "collapsed": false,
    "deletable": true,
    "editable": true
   },
   "outputs": [],
   "source": [
    "%bitmag put-file -c integrationtest2 -f {TESTFILE1}"
   ]
  },
  {
   "cell_type": "markdown",
   "metadata": {
    "deletable": true,
    "editable": true
   },
   "source": [
    "## Put with returned checksums"
   ]
  },
  {
   "cell_type": "markdown",
   "metadata": {
    "deletable": true,
    "editable": true
   },
   "source": [
    "### Put a file including a request of a salted checksum calculated on the pillar, which should be returned."
   ]
  },
  {
   "cell_type": "code",
   "execution_count": 20,
   "metadata": {
    "ExecuteTime": {
     "end_time": "2017-03-09T16:38:12.306520Z",
     "start_time": "2017-03-09T17:38:12.217898+01:00"
    },
    "collapsed": false,
    "deletable": true,
    "editable": true
   },
   "outputs": [
    {
     "name": "stdout",
     "output_type": "stream",
     "text": [
      "5bb8cf7554e747f7ab8bd09a910b680bf889d959\n"
     ]
    }
   ],
   "source": [
    "import hmac\n",
    "import hashlib\n",
    "import urllib.request\n",
    "\n",
    "def getSaltedChecksum(url,salt,algorithm):\n",
    "    saltBytes = bytes.fromhex(salt)\n",
    "    digester = hmac.new(saltBytes,None,algorithm)\n",
    "    with urllib.request.urlopen(url) as from_fh:\n",
    "        while True:\n",
    "            chunk = from_fh.read()\n",
    "            if not chunk:\n",
    "                break\n",
    "            digester.update(chunk)\n",
    "    return digester.hexdigest().lower()\n",
    "\n",
    "saltedChecksum=getSaltedChecksum(url=URL,salt='abcd',algorithm=hashlib.sha1)\n",
    "print(saltedChecksum)"
   ]
  },
  {
   "cell_type": "markdown",
   "metadata": {
    "deletable": true,
    "editable": true
   },
   "source": [
    "Use the request-checksum-algorithm and request-checksum-salt arguments (-R and -S):"
   ]
  },
  {
   "cell_type": "code",
   "execution_count": 21,
   "metadata": {
    "ExecuteTime": {
     "end_time": "2017-03-09T16:38:12.311698Z",
     "start_time": "2017-03-09T17:38:12.308630+01:00"
    },
    "collapsed": false,
    "deletable": true,
    "editable": true
   },
   "outputs": [],
   "source": [
    "TESTFILE4=''.join(random.choice(string.ascii_uppercase + string.digits) for _ in range(10))"
   ]
  },
  {
   "cell_type": "markdown",
   "metadata": {
    "deletable": true,
    "editable": true
   },
   "source": [
    "Note, this will return the stored MD5 hashes, if the file is already put'et"
   ]
  },
  {
   "cell_type": "code",
   "execution_count": 22,
   "metadata": {
    "ExecuteTime": {
     "end_time": "2017-03-09T16:38:16.809385Z",
     "start_time": "2017-03-09T17:38:12.321664+01:00"
    },
    "collapsed": false,
    "deletable": true,
    "editable": true
   },
   "outputs": [
    {
     "name": "stdout",
     "output_type": "stream",
     "text": [
      "md5: ['940a51b250e7aa82d8e8ea31217ff267']\n",
      "PillarId \t Checksum\n",
      "sbtape2 \t 5bb8cf7554e747f7ab8bd09a910b680bf889d959\n",
      "reference2 \t 5bb8cf7554e747f7ab8bd09a910b680bf889d959\n",
      "sbdisk1 \t 5bb8cf7554e747f7ab8bd09a910b680bf889d959\n",
      "Failure: 94a781d1: PUT_FILE for file IZOX164686: FAILED: , Failed operation. Cause(s):\n",
      "[94a781d1: PUT_FILE for file IZOX164686: COMPONENT_FAILED: ContributorID kbpillar2 ResponseCode: FILE_TRANSFER_FAILURE, File transfer for IZOX164686 to http://sandkasse-01.kb.dk/dav/test.txt]\n"
     ]
    }
   ],
   "source": [
    "hash=!curl -s {URL} | md5sum - | cut -d' ' -f1\n",
    "print(\"md5: {}\".format(hash))\n",
    "%bitmag put-file -c integrationtest2 -u {URL} -i {TESTFILE4} -C {hash.s} -S 'abcd' -R HMAC_SHA1"
   ]
  },
  {
   "cell_type": "markdown",
   "metadata": {
    "deletable": true,
    "editable": true
   },
   "source": [
    "Verify that the checksumpillar does not reply with a checksum."
   ]
  },
  {
   "cell_type": "code",
   "execution_count": 23,
   "metadata": {
    "ExecuteTime": {
     "end_time": "2017-03-09T16:38:20.675319Z",
     "start_time": "2017-03-09T17:38:16.814092+01:00"
    },
    "collapsed": false,
    "deletable": true,
    "editable": true
   },
   "outputs": [
    {
     "name": "stdout",
     "output_type": "stream",
     "text": [
      "Count: \tChecksum: \tPillars: \tFileID: \n",
      "3 \t5bb8cf7554e747f7ab8bd09a910b680bf889d959 \tAll \tIZOX164686\n"
     ]
    }
   ],
   "source": [
    "%bitmag get-checksums -c integrationtest2 -i {TESTFILE4} -R HMAC_SHA1 -S 'abcd'"
   ]
  },
  {
   "cell_type": "markdown",
   "metadata": {
    "deletable": true,
    "editable": true
   },
   "source": [
    "Verify that the checksumpillar and all the other pillars have the file"
   ]
  },
  {
   "cell_type": "code",
   "execution_count": 24,
   "metadata": {
    "ExecuteTime": {
     "end_time": "2017-03-09T16:38:24.634036Z",
     "start_time": "2017-03-09T17:38:20.677512+01:00"
    },
    "collapsed": false,
    "deletable": true,
    "editable": true
   },
   "outputs": [
    {
     "name": "stdout",
     "output_type": "stream",
     "text": [
      "Count: \tSize: \tFileID:\n",
      "4 \t27 \tIZOX164686\n"
     ]
    }
   ],
   "source": [
    "%bitmag get-file-ids -c integrationtest2 -i {TESTFILE4}"
   ]
  },
  {
   "cell_type": "markdown",
   "metadata": {
    "deletable": true,
    "editable": true
   },
   "source": [
    "### Put a file including a request for checksum, but using both a salt and a non-salt algorithm."
   ]
  },
  {
   "cell_type": "markdown",
   "metadata": {
    "deletable": true,
    "editable": true
   },
   "source": [
    "Use the request-checksum-algorithm and request-checksum-salt arguments (-R and -S):"
   ]
  },
  {
   "cell_type": "code",
   "execution_count": 25,
   "metadata": {
    "ExecuteTime": {
     "end_time": "2017-03-09T16:38:24.644933Z",
     "start_time": "2017-03-09T17:38:24.636033+01:00"
    },
    "collapsed": false,
    "deletable": true,
    "editable": true
   },
   "outputs": [],
   "source": [
    "TESTFILE5=''.join(random.choice(string.ascii_uppercase + string.digits) for _ in range(10))"
   ]
  },
  {
   "cell_type": "code",
   "execution_count": 26,
   "metadata": {
    "ExecuteTime": {
     "end_time": "2017-03-09T16:38:29.302513Z",
     "start_time": "2017-03-09T17:38:24.646883+01:00"
    },
    "collapsed": false,
    "deletable": true,
    "editable": true
   },
   "outputs": [
    {
     "name": "stdout",
     "output_type": "stream",
     "text": [
      "md5: ['940a51b250e7aa82d8e8ea31217ff267']\n",
      "PillarId \t Checksum\n",
      "kbpillar2 \t 5bb8cf7554e747f7ab8bd09a910b680bf889d959\n",
      "sbtape2 \t 5bb8cf7554e747f7ab8bd09a910b680bf889d959\n",
      "reference2 \t 5bb8cf7554e747f7ab8bd09a910b680bf889d959\n",
      "sbdisk1 \t 5bb8cf7554e747f7ab8bd09a910b680bf889d959\n"
     ]
    }
   ],
   "source": [
    "hash=!curl -s {URL} | md5sum - | cut -d' ' -f1\n",
    "print(\"md5: {}\".format(hash))\n",
    "\n",
    "%bitmag put-file -c integrationtest2 -u {URL} -i {TESTFILE5} -C {hash.s} -R SHA1 -S 'abcd'"
   ]
  },
  {
   "cell_type": "markdown",
   "metadata": {
    "deletable": true,
    "editable": true
   },
   "source": [
    "Verify that all the data pillars return the same checksum, and that it is identical to the previous test (where '-R HMAC_SHA1')"
   ]
  },
  {
   "cell_type": "markdown",
   "metadata": {
    "deletable": true,
    "editable": true
   },
   "source": [
    "### Put a file including a request for checksum, but using a salt algorithm but not giving a salt."
   ]
  },
  {
   "cell_type": "markdown",
   "metadata": {
    "deletable": true,
    "editable": true
   },
   "source": [
    "Use the request-checksum-algorithm and request-checksum-salt arguments (-R and no -S):"
   ]
  },
  {
   "cell_type": "code",
   "execution_count": 27,
   "metadata": {
    "ExecuteTime": {
     "end_time": "2017-03-09T16:38:33.845722Z",
     "start_time": "2017-03-09T17:38:29.304834+01:00"
    },
    "collapsed": false,
    "deletable": true,
    "editable": true
   },
   "outputs": [
    {
     "name": "stdout",
     "output_type": "stream",
     "text": [
      "md5: ['940a51b250e7aa82d8e8ea31217ff267']\n",
      "sha1: ['82b4b156a5db351e278e3a8e5d3e762deca45fdb']\n",
      "Count: \tChecksum: \tPillars: \tFileID: \n",
      "5 \t940a51b250e7aa82d8e8ea31217ff267 \tAll \tTRK40HUT3Q\n"
     ]
    }
   ],
   "source": [
    "hash=!curl -s {URL} | md5sum - | cut -d' ' -f1\n",
    "print(\"md5: {}\".format(hash))\n",
    "\n",
    "hash=!curl -s {URL} | sha1sum - | cut -d' ' -f1\n",
    "print(\"sha1: {}\".format(hash))\n",
    "\n",
    "%bitmag get-checksums -c integrationtest2 -i {TESTFILE5}"
   ]
  },
  {
   "cell_type": "markdown",
   "metadata": {
    "deletable": true,
    "editable": true
   },
   "source": [
    "Verify that the data pillars all deliver the same checksum, which must be different from the checksum in the previous two tests."
   ]
  },
  {
   "cell_type": "markdown",
   "metadata": {
    "deletable": true,
    "editable": true
   },
   "source": [
    "## Error scenarios"
   ]
  },
  {
   "cell_type": "markdown",
   "metadata": {
    "deletable": true,
    "editable": true
   },
   "source": [
    "### Attempt to put a file with an fileID that is already present in the collection (ensure that the file has a different checksum from the already archived)"
   ]
  },
  {
   "cell_type": "markdown",
   "metadata": {
    "deletable": true,
    "editable": true
   },
   "source": [
    "The putFile request should fail informing the user that a file with the given file ID already exists in the collection."
   ]
  },
  {
   "cell_type": "code",
   "execution_count": 28,
   "metadata": {
    "ExecuteTime": {
     "end_time": "2017-03-09T16:38:37.350004Z",
     "start_time": "2017-03-09T17:38:33.848022+01:00"
    },
    "collapsed": false,
    "deletable": true,
    "editable": true
   },
   "outputs": [
    {
     "name": "stdout",
     "output_type": "stream",
     "text": [
      "Failure: ecf3f31d: PUT_FILE for file README.md: FAILED: , Can not put file README.md, as an different file already exists on pillar kbpillar2\r\n"
     ]
    }
   ],
   "source": [
    "%bitmag put-file -c integrationtest2 -f .gitignore -i {TESTFILE1}"
   ]
  },
  {
   "cell_type": "markdown",
   "metadata": {
    "deletable": true,
    "editable": true
   },
   "source": [
    "### Attempt to put a file which does not exist"
   ]
  },
  {
   "cell_type": "markdown",
   "metadata": {
    "deletable": true,
    "editable": true
   },
   "source": [
    "Client should fail immediately"
   ]
  },
  {
   "cell_type": "code",
   "execution_count": 29,
   "metadata": {
    "ExecuteTime": {
     "end_time": "2017-03-09T16:38:39.876424Z",
     "start_time": "2017-03-09T17:38:37.351768+01:00"
    },
    "collapsed": false,
    "deletable": true,
    "editable": true
   },
   "outputs": [
    {
     "name": "stdout",
     "output_type": "stream",
     "text": [
      "java.lang.IllegalArgumentException: The file 'ThisFileDoesNotExist' is invalid. It does not exists or it is a directory.\r\n",
      "\tat org.bitrepository.commandline.CommandLineClient.findTheFile(CommandLineClient.java:283)\r\n",
      "\tat org.bitrepository.commandline.CommandLineClient.getURLOrUploadFile(CommandLineClient.java:329)\r\n",
      "\tat org.bitrepository.commandline.PutFileCmd.putTheFile(PutFileCmd.java:159)\r\n",
      "\tat org.bitrepository.commandline.PutFileCmd.performOperation(PutFileCmd.java:86)\r\n",
      "\tat org.bitrepository.commandline.CommandLineClient.runCommand(CommandLineClient.java:68)\r\n",
      "\tat org.bitrepository.commandline.PutFileCmd.main(PutFileCmd.java:50)\r\n"
     ]
    }
   ],
   "source": [
    "%bitmag put-file -c integrationtest2 -f ThisFileDoesNotExist"
   ]
  },
  {
   "cell_type": "markdown",
   "metadata": {
    "deletable": true,
    "editable": true
   },
   "source": [
    "### Attempt to put a file to a non-existing collection"
   ]
  },
  {
   "cell_type": "markdown",
   "metadata": {
    "deletable": true,
    "editable": true
   },
   "source": [
    "Client should fail immediately"
   ]
  },
  {
   "cell_type": "code",
   "execution_count": 30,
   "metadata": {
    "ExecuteTime": {
     "end_time": "2017-03-09T16:38:41.141461Z",
     "start_time": "2017-03-09T17:38:39.877969+01:00"
    },
    "collapsed": false,
    "deletable": true,
    "editable": true
   },
   "outputs": [
    {
     "name": "stdout",
     "output_type": "stream",
     "text": [
      "Invalid argument: integrationtest3 is not a valid collection.\r\n",
      "The following collections are defined: [integrationtest1, integrationtest2, reklamefilm, dvd, avis, netarkiv]\r\n"
     ]
    }
   ],
   "source": [
    "%bitmag put-file -c integrationtest3 -i {TESTFILE1}"
   ]
  },
  {
   "cell_type": "markdown",
   "metadata": {
    "deletable": true,
    "editable": true
   },
   "source": [
    "### Attempt to put a file to a non-existing pillar"
   ]
  },
  {
   "cell_type": "markdown",
   "metadata": {
    "deletable": true,
    "editable": true
   },
   "source": [
    "Client should fail immediately"
   ]
  },
  {
   "cell_type": "code",
   "execution_count": 31,
   "metadata": {
    "ExecuteTime": {
     "end_time": "2017-03-09T16:38:42.414680Z",
     "start_time": "2017-03-09T17:38:41.143365+01:00"
    },
    "collapsed": false,
    "deletable": true,
    "editable": true
   },
   "outputs": [
    {
     "name": "stdout",
     "output_type": "stream",
     "text": [
      "Invalid argument: non-existing-pillar is not a valid pillar for collection integrationtest1\r\n",
      "The collection contains the following pillars: [sbtape2, reference2, checksum2, sbdisk1, kbpillar2]\r\n"
     ]
    }
   ],
   "source": [
    "%bitmag put-file -c integrationtest1 -i {TESTFILE1} -p non-existing-pillar"
   ]
  }
 ],
 "metadata": {
  "celltoolbar": "Initialisation Cell",
  "kernelspec": {
   "display_name": "Python 3",
   "language": "python",
   "name": "python3"
  },
  "language_info": {
   "codemirror_mode": {
    "name": "ipython",
    "version": 3
   },
   "file_extension": ".py",
   "mimetype": "text/x-python",
   "name": "python",
   "nbconvert_exporter": "python",
   "pygments_lexer": "ipython3",
   "version": "3.5.2+"
  },
  "toc": {
   "colors": {
    "hover_highlight": "#DAA520",
    "running_highlight": "#FF0000",
    "selected_highlight": "#FFD700"
   },
   "moveMenuLeft": true,
   "nav_menu": {
    "height": "333px",
    "width": "252px"
   },
   "navigate_menu": true,
   "number_sections": true,
   "sideBar": true,
   "threshold": 4,
   "toc_cell": false,
   "toc_section_display": "block",
   "toc_window_display": true
  }
 },
 "nbformat": 4,
 "nbformat_minor": 2
}
