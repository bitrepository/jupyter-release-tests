{
 "cells": [
  {
   "cell_type": "markdown",
   "metadata": {
    "deletable": true,
    "editable": true
   },
   "source": [
    "# Introduction"
   ]
  },
  {
   "cell_type": "markdown",
   "metadata": {
    "deletable": true,
    "editable": true
   },
   "source": [
    "The Bitrepository quickstart is a package for quickly getting a basic fully functioning bitrepository reference system up on a localhost.\n",
    "\n",
    "The quickstart will setup a bitrepository comprised of:\n",
    "* Webclient\n",
    "* AuditTrail service\n",
    "* Alarm service\n",
    "* Integrity service\n",
    "* Monitoring (status) service\n",
    "* 1 checksum pillar\n",
    "* 2 reference pillars\n",
    "\n",
    "As the setup is basic – encryption, authentication and authorization is not enabled in the quickstart."
   ]
  },
  {
   "cell_type": "markdown",
   "metadata": {
    "deletable": true,
    "editable": true
   },
   "source": [
    "# Prerequisites and requirements"
   ]
  },
  {
   "cell_type": "markdown",
   "metadata": {
    "deletable": true,
    "editable": true
   },
   "source": [
    "For the quickstart to work some prerequisites and requirements exists.\n",
    "\n",
    "All the quickstart components are meant to run on the same machine in an Linux environment. Possibility accessible from other machines, provided that firewall rules allow."
   ]
  },
  {
   "cell_type": "markdown",
   "metadata": {
    "deletable": true,
    "editable": true
   },
   "source": [
    "## Infrastructure"
   ]
  },
  {
   "cell_type": "markdown",
   "metadata": {
    "deletable": true,
    "editable": true
   },
   "source": [
    "The quickstart needs some infrastructure, for message exchange and file exchange"
   ]
  },
  {
   "cell_type": "markdown",
   "metadata": {
    "deletable": true,
    "editable": true
   },
   "source": [
    "### Message bus"
   ]
  },
  {
   "cell_type": "markdown",
   "metadata": {
    "deletable": true,
    "editable": true
   },
   "source": [
    "The bitrepository needs an Apache Active MQ for sending messages between components. In the quickstart it is assumed that it is accessible on the localhost on the default port using a tcp connection. I.e. tcp://localhost:61616\n",
    "\n",
    "It must not require any authentication to connect.\n",
    "\n",
    "The default settings from the Apache Active MQ destribution will suffice, but the user/deployer is free to make changes to the Active MQ installation as long as the MQ can be reached as described above.\n",
    "\n",
    "If the MQ is not available on the above url, the pillars and services simply will not work.\n",
    "\n",
    "Apache Active MQ can be obtained from the ActiveMQ download site.\n",
    "\n",
    "You can run this process in docker with this command"
   ]
  },
  {
   "cell_type": "code",
   "execution_count": 1,
   "metadata": {
    "ExecuteTime": {
     "end_time": "2017-03-10T09:45:12.952821Z",
     "start_time": "2017-03-10T10:45:12.394151+01:00"
    },
    "collapsed": false,
    "deletable": true,
    "editable": true
   },
   "outputs": [
    {
     "name": "stdout",
     "output_type": "stream",
     "text": [
      "6f35f70ce35ac530c72772f892b77b24f2398bdc0ff37c27d85358199ee8172b\r\n"
     ]
    }
   ],
   "source": [
    "!docker run \\\n",
    "    --detach \\\n",
    "    --rm \\\n",
    "    --env 'ACTIVEMQ_MIN_MEMORY=512' \\\n",
    "    --env 'ACTIVEMQ_MAX_MEMORY=2048' \\\n",
    "    --publish 61616:61616  \\\n",
    "    --name activemq \\\n",
    "    webcenter/activemq:5.12.0 \\\n",
    "    /opt/activemq/bin/activemq console"
   ]
  },
  {
   "cell_type": "markdown",
   "metadata": {
    "deletable": true,
    "editable": true
   },
   "source": [
    "### Webserver"
   ]
  },
  {
   "cell_type": "markdown",
   "metadata": {
    "deletable": true,
    "editable": true
   },
   "source": [
    "Per design the bitrepository uses a webdav server for file transfer. The quickstart configuration assumes that a webdav server is available on http://localhost/dav/.\n",
    "\n",
    "It must not require any authentication to connect.\n",
    "\n",
    "If no Webdav server is available see File Exchange Server Setup for references on setup. \n",
    "\n",
    "Should there be a HTTP server running on localhost that does not support webdav, or that use of another webdav server is wanted, then the ReferenceSettings.xml files for the AuditTrailService and CommandLine client needs to be have their FileExchange section changed to reflect this.\n",
    "\n",
    "As the file location is specified per request this is not a hard requirement for deployment of the quickstart package, but something that needs to be taken into consideration.\n",
    "\n",
    "You can run a apache2 based webdav server in docker with this easy command"
   ]
  },
  {
   "cell_type": "code",
   "execution_count": 2,
   "metadata": {
    "ExecuteTime": {
     "end_time": "2017-03-10T09:45:13.439116Z",
     "start_time": "2017-03-10T10:45:12.954890+01:00"
    },
    "collapsed": false,
    "deletable": true,
    "editable": true
   },
   "outputs": [
    {
     "name": "stdout",
     "output_type": "stream",
     "text": [
      "c124d0246a7eca14fee96fad3953d33f4032de1c01dd4a69e09ce2783013977b\r\n"
     ]
    }
   ],
   "source": [
    "!docker run \\\n",
    "    --detach \\\n",
    "    --rm \\\n",
    "    --publish 80:80 \\\n",
    "    --name webdav \\\n",
    "    blekinge/apache_webdav"
   ]
  },
  {
   "cell_type": "markdown",
   "metadata": {
    "deletable": true,
    "editable": true
   },
   "source": [
    "## Runtime requirements"
   ]
  },
  {
   "cell_type": "markdown",
   "metadata": {
    "deletable": true,
    "editable": true
   },
   "source": [
    "To run the quickstart a few system requirements must be in place.\n",
    "\n",
    "A java runtime enviroment 1.8 or newer is needed.\n",
    "\n",
    "For the quickstart.sh script, the `curl` is needed to retrieve the Tomcat servlet container."
   ]
  },
  {
   "cell_type": "markdown",
   "metadata": {
    "deletable": true,
    "editable": true
   },
   "source": [
    "# Running the quickstart"
   ]
  },
  {
   "cell_type": "markdown",
   "metadata": {
    "deletable": true,
    "editable": true
   },
   "source": [
    "When having ensured the above mentioned requirements are in place the quickstart package should be obtained from: [Quickstart](https://sbforge.org/nexus/content/repositories/releases/org/bitrepository/reference/bitrepository-integration/) ([newest release](https://sbforge.org/nexus/content/repositories/releases/org/bitrepository/reference/bitrepository-integration/1.8/bitrepository-integration-1.8-quickstart.tar.gz), [devel version](https://sbforge.org/nexus/service/local/artifact/maven/redirect?g=org.bitrepository.reference&a=bitrepository-integration&v=LATEST&r=snapshots&p=tar.gz&c=quickstart&)).\n",
    "\n",
    "The quickstart tar.gz should be unpackaged.\n",
    "\n",
    "Via the commandline cd to the unpacked directory and run the command \"./setup.sh\"\n",
    "\n",
    "The first time running the setup script will adapt the configuration files to work with the deployed destination. Thus the quickstart will stop working if the quickstart directory is moved to another destination after the first run.\n",
    "\n",
    "Running the setup.sh script does the following:\n",
    "\n",
    "* Adapt the configuration files to the environment (first run only)\n",
    "* Create sub directories and deploy the needed components to them.\n",
    "* Start the pillars\n",
    "* Download a Tomcat server for services and webclient\n",
    "* Deploy services and webclient to Tomcat server and start it.\n",
    "* After the script has finished the system should be accessible through: http://localhost:8080/bitrepository-webclient"
   ]
  },
  {
   "cell_type": "code",
   "execution_count": 3,
   "metadata": {
    "ExecuteTime": {
     "end_time": "2017-03-10T09:45:23.784456Z",
     "start_time": "2017-03-10T10:45:13.441202+01:00"
    },
    "collapsed": true,
    "deletable": true,
    "editable": true
   },
   "outputs": [],
   "source": [
    "%%bash\n",
    "wget -Nq \"https://sbforge.org/nexus/service/local/artifact/maven/redirect?g=org.bitrepository.reference&a=bitrepository-integration&v=LATEST&r=snapshots&p=tar.gz&c=quickstart&\" -O quickstart.tgz\n",
    "tar -xzf quickstart.tgz"
   ]
  },
  {
   "cell_type": "code",
   "execution_count": 4,
   "metadata": {
    "ExecuteTime": {
     "end_time": "2017-03-10T09:45:28.569604Z",
     "start_time": "2017-03-10T10:45:23.786799+01:00"
    },
    "collapsed": false,
    "deletable": true,
    "editable": true
   },
   "outputs": [
    {
     "name": "stdout",
     "output_type": "stream",
     "text": [
      "Installing pillars\n",
      "Installing checksumpillar\n",
      "Installing file1pillar\n",
      "Installing file2pillar\n",
      "Installing tomcat\n",
      "Creating Catalina dir\n",
      "pillar started\n",
      "pillar started\n",
      "pillar started\n",
      "Tomcat started.\n",
      "Bit repository GUI can now be accessed at http://localhost:8080/bitrepository-webclient\n"
     ]
    },
    {
     "name": "stderr",
     "output_type": "stream",
     "text": [
      "mkdir: cannot create directory ‘reportdir’: File exists\n",
      "  % Total    % Received % Xferd  Average Speed   Time    Time     Time  Current\n",
      "                                 Dload  Upload   Total   Spent    Left  Speed\n",
      "\r",
      "  0     0    0     0    0     0      0      0 --:--:-- --:--:-- --:--:--     0\r",
      "  1 9053k    1 97000    0     0   560k      0  0:00:16 --:--:--  0:00:16  560k\r",
      "100 9053k  100 9053k    0     0  7911k      0  0:00:01  0:00:01 --:--:-- 7913k\n"
     ]
    }
   ],
   "source": [
    "%%bash\n",
    "cd bitrepository-quickstart\n",
    "./setup.sh"
   ]
  },
  {
   "cell_type": "code",
   "execution_count": 5,
   "metadata": {
    "ExecuteTime": {
     "end_time": "2017-03-10T09:45:28.578614Z",
     "start_time": "2017-03-10T10:45:28.571609+01:00"
    },
    "collapsed": true,
    "deletable": true,
    "editable": true
   },
   "outputs": [],
   "source": [
    "%alias bitmag bitrepository-quickstart/commandline/bin/bitmag.sh %l"
   ]
  },
  {
   "cell_type": "markdown",
   "metadata": {
    "deletable": true,
    "editable": true
   },
   "source": [
    "# Sanity Tests"
   ]
  },
  {
   "cell_type": "markdown",
   "metadata": {
    "deletable": true,
    "editable": true
   },
   "source": [
    "Test for checking the sanity of the system as a whole. This means a roundtrip with only sunshine usage of the system getting through all the core functionality"
   ]
  },
  {
   "cell_type": "markdown",
   "metadata": {
    "deletable": true,
    "editable": true
   },
   "source": [
    "## Sunshine roundtrip"
   ]
  },
  {
   "cell_type": "markdown",
   "metadata": {
    "deletable": true,
    "editable": true
   },
   "source": [
    "The purpose of the test is to make certain that the core functionality works as expected when behaving nicely. The test is designed such that the system state is the same prior to the test starting and after ending it - provided that the test passes. This also means that the test can be repeated an arbitrary number of times as long as it passes. "
   ]
  },
  {
   "cell_type": "markdown",
   "metadata": {
    "deletable": true,
    "editable": true
   },
   "source": [
    "In the following the same fileID is used in all operations. The only restriction is that the fileID is valid for all components in the test, and is not already present in the collection."
   ]
  },
  {
   "cell_type": "markdown",
   "metadata": {
    "deletable": true,
    "editable": true
   },
   "source": [
    "### List all fileID's to and note which files are present in the collection. "
   ]
  },
  {
   "cell_type": "code",
   "execution_count": 6,
   "metadata": {
    "ExecuteTime": {
     "end_time": "2017-03-10T09:48:32.920978Z",
     "start_time": "2017-03-10T10:45:28.584128+01:00"
    },
    "collapsed": false,
    "deletable": true,
    "editable": true
   },
   "outputs": [
    {
     "name": "stdout",
     "output_type": "stream",
     "text": [
      "Count: \tSize: \tFileID:\r\n"
     ]
    }
   ],
   "source": [
    "%bitmag get-file-ids -c books"
   ]
  },
  {
   "cell_type": "markdown",
   "metadata": {
    "deletable": true,
    "editable": true
   },
   "source": [
    "### Put a file with an allowed fileID which is not already in the collection. \n",
    "Wait for the put file operation to finish with success for all pillars. "
   ]
  },
  {
   "cell_type": "code",
   "execution_count": 7,
   "metadata": {
    "ExecuteTime": {
     "end_time": "2017-03-10T09:48:37.579582Z",
     "start_time": "2017-03-10T10:48:32.923924+01:00"
    },
    "collapsed": false,
    "deletable": true,
    "editable": true
   },
   "outputs": [],
   "source": [
    "%bitmag put-file -c books -f README.md"
   ]
  },
  {
   "cell_type": "markdown",
   "metadata": {
    "deletable": true,
    "editable": true
   },
   "source": [
    "### List all files"
   ]
  },
  {
   "cell_type": "markdown",
   "metadata": {
    "deletable": true,
    "editable": true
   },
   "source": [
    "#### Verify that the file put in 1 is present in the listing and that it is present on all (3) pillars in the collection. "
   ]
  },
  {
   "cell_type": "code",
   "execution_count": 8,
   "metadata": {
    "ExecuteTime": {
     "end_time": "2017-03-10T09:48:41.308437Z",
     "start_time": "2017-03-10T10:48:37.581533+01:00"
    },
    "collapsed": false,
    "deletable": true,
    "editable": true
   },
   "outputs": [
    {
     "name": "stdout",
     "output_type": "stream",
     "text": [
      "Count: \tSize: \tFileID:\n",
      "3 \t4141 \tREADME.md\n"
     ]
    }
   ],
   "source": [
    "%bitmag get-file-ids -c books"
   ]
  },
  {
   "cell_type": "markdown",
   "metadata": {
    "deletable": true,
    "editable": true
   },
   "source": [
    "#### Trigger a collection of audittrails, and verify that the new file is present in the list of audit trail events. "
   ]
  },
  {
   "cell_type": "markdown",
   "metadata": {
    "deletable": true,
    "editable": true
   },
   "source": [
    "http://localhost:8080/bitrepository-webclient/audit-trail-service.html"
   ]
  },
  {
   "cell_type": "markdown",
   "metadata": {
    "deletable": true,
    "editable": true
   },
   "source": [
    "#### Trigger a full integrity check, and verify that the new file is present and consistent. "
   ]
  },
  {
   "cell_type": "markdown",
   "metadata": {
    "deletable": true,
    "editable": true
   },
   "source": [
    "http://localhost:8080/bitrepository-webclient/integrity-service.html "
   ]
  },
  {
   "cell_type": "markdown",
   "metadata": {
    "deletable": true,
    "editable": true
   },
   "source": [
    "### Request a MD5 checksum for the file."
   ]
  },
  {
   "cell_type": "markdown",
   "metadata": {
    "deletable": true,
    "editable": true
   },
   "source": [
    "#### Verify that all pillars deliver the requested checksum, and that all pillars agree on the checksum value. "
   ]
  },
  {
   "cell_type": "code",
   "execution_count": 9,
   "metadata": {
    "ExecuteTime": {
     "end_time": "2017-03-10T09:48:45.357261Z",
     "start_time": "2017-03-10T10:48:41.310534+01:00"
    },
    "collapsed": false,
    "deletable": true,
    "editable": true
   },
   "outputs": [
    {
     "name": "stdout",
     "output_type": "stream",
     "text": [
      "Count: \tChecksum: \tPillars: \tFileID: \n",
      "3 \te3815360b4db52d61191d985b79a208c \tAll \tREADME.md\n"
     ]
    }
   ],
   "source": [
    "%bitmag get-checksums -c books -i README.md"
   ]
  },
  {
   "cell_type": "markdown",
   "metadata": {
    "deletable": true,
    "editable": true
   },
   "source": [
    "### Request a salted checksum request."
   ]
  },
  {
   "cell_type": "markdown",
   "metadata": {
    "deletable": true,
    "editable": true
   },
   "source": [
    "#### Verify that the checksum pillar is unable to perform the operation. "
   ]
  },
  {
   "cell_type": "code",
   "execution_count": 10,
   "metadata": {
    "ExecuteTime": {
     "end_time": "2017-03-10T09:48:47.463253Z",
     "start_time": "2017-03-10T10:48:45.359129+01:00"
    },
    "collapsed": false,
    "deletable": true,
    "editable": true
   },
   "outputs": [
    {
     "name": "stdout",
     "output_type": "stream",
     "text": [
      "Count: \tChecksum: \tPillars: \tFileID: \r\n"
     ]
    }
   ],
   "source": [
    "%bitmag get-checksums -c books -i README.md -S abcd -R MD5 -p checksum-pillar"
   ]
  },
  {
   "cell_type": "markdown",
   "metadata": {
    "deletable": true,
    "editable": true
   },
   "source": [
    "#### Verify that all full pillars deliver and agree on the new calculation. "
   ]
  },
  {
   "cell_type": "code",
   "execution_count": 11,
   "metadata": {
    "ExecuteTime": {
     "end_time": "2017-03-10T09:48:51.075043Z",
     "start_time": "2017-03-10T10:48:47.465019+01:00"
    },
    "collapsed": false,
    "deletable": true,
    "editable": true
   },
   "outputs": [
    {
     "name": "stdout",
     "output_type": "stream",
     "text": [
      "Count: \tChecksum: \tPillars: \tFileID: \n",
      "2 \t7ecaa01429e95892e3353be8356c9b40 \tAll \tREADME.md\n"
     ]
    }
   ],
   "source": [
    "%bitmag get-checksums -c books -i README.md -S abcd -R MD5  "
   ]
  },
  {
   "cell_type": "markdown",
   "metadata": {
    "deletable": true,
    "editable": true
   },
   "source": [
    "#### Verify that the salted checksum differs from the non-salted. "
   ]
  },
  {
   "cell_type": "code",
   "execution_count": 12,
   "metadata": {
    "ExecuteTime": {
     "end_time": "2017-03-10T09:48:56.858094Z",
     "start_time": "2017-03-10T10:48:51.076731+01:00"
    },
    "collapsed": false,
    "deletable": true,
    "editable": true
   },
   "outputs": [
    {
     "name": "stdout",
     "output_type": "stream",
     "text": [
      "Count: \tChecksum: \tPillars: \tFileID: \n",
      "3 \te3815360b4db52d61191d985b79a208c \tAll \tREADME.md\n",
      "Count: \tChecksum: \tPillars: \tFileID: \n",
      "2 \t7ecaa01429e95892e3353be8356c9b40 \tAll \tREADME.md\n"
     ]
    }
   ],
   "source": [
    "%bitmag get-checksums -c books -i README.md -R MD5\n",
    "%bitmag get-checksums -c books -i README.md -S 'abcd' -R MD5"
   ]
  },
  {
   "cell_type": "markdown",
   "metadata": {
    "deletable": true,
    "editable": true
   },
   "source": [
    "### Get file from pillar"
   ]
  },
  {
   "cell_type": "markdown",
   "metadata": {
    "deletable": true,
    "editable": true
   },
   "source": [
    "#### Verify its content is the same as the file that was previously put. "
   ]
  },
  {
   "cell_type": "code",
   "execution_count": 13,
   "metadata": {
    "ExecuteTime": {
     "end_time": "2017-03-10T09:48:59.879419Z",
     "start_time": "2017-03-10T10:48:56.860448+01:00"
    },
    "collapsed": false,
    "deletable": true,
    "editable": true
   },
   "outputs": [
    {
     "name": "stdout",
     "output_type": "stream",
     "text": [
      "e3815360b4db52d61191d985b79a208c  README.md\n",
      "README.md retrieved\n",
      "e3815360b4db52d61191d985b79a208c  README.md.tmp\n"
     ]
    }
   ],
   "source": [
    "!md5sum README.md\n",
    "%bitmag get-file -c books -i README.md -l README.md.tmp\n",
    "!md5sum README.md.tmp"
   ]
  },
  {
   "cell_type": "markdown",
   "metadata": {
    "deletable": true,
    "editable": true
   },
   "source": [
    "### Replace the file with a new file with different content than the original on each pillar. "
   ]
  },
  {
   "cell_type": "code",
   "execution_count": 14,
   "metadata": {
    "ExecuteTime": {
     "end_time": "2017-03-10T09:49:07.292538Z",
     "start_time": "2017-03-10T10:48:59.881756+01:00"
    },
    "collapsed": false,
    "deletable": true,
    "editable": true
   },
   "outputs": [
    {
     "name": "stdout",
     "output_type": "stream",
     "text": [
      "Failure: 3ff00505: REPLACE_FILE for file logback.xml: FAILED: , Can not continue with replace operation, as file1-pillar is unable to perform the deletion.\n",
      "Failure: 46659d32: REPLACE_FILE for file logback.xml: FAILED: , Can not continue with replace operation, as file2-pillar is unable to perform the deletion.\n",
      "Failure: 9449a0e7: REPLACE_FILE for file logback.xml: FAILED: , Can not continue with replace operation, as checksum-pillar is unable to perform the deletion.\n"
     ]
    }
   ],
   "source": [
    "!xmllint bitrepository-quickstart/commandline/logback.xml > logback.changed.xml\n",
    "oldhash=!md5sum bitrepository-quickstart/commandline/logback.xml | cut -d' ' -f1\n",
    "%bitmag replace-file -c books -i logback.xml -f logback.changed.xml -C {oldhash} -p file1-pillar\n",
    "%bitmag replace-file -c books -i logback.xml -f logback.changed.xml -C {oldhash} -p file2-pillar\n",
    "%bitmag replace-file -c books -i logback.xml -f logback.changed.xml -C {oldhash} -p checksum-pillar"
   ]
  },
  {
   "cell_type": "markdown",
   "metadata": {
    "deletable": true,
    "editable": true
   },
   "source": [
    "Wait for each pillar to complete the operation."
   ]
  },
  {
   "cell_type": "markdown",
   "metadata": {
    "deletable": true,
    "editable": true
   },
   "source": [
    "### List all files"
   ]
  },
  {
   "cell_type": "markdown",
   "metadata": {
    "deletable": true,
    "editable": true
   },
   "source": [
    "#### Verify that the fileID is still present on all pillars. "
   ]
  },
  {
   "cell_type": "code",
   "execution_count": 15,
   "metadata": {
    "ExecuteTime": {
     "end_time": "2017-03-10T09:49:10.065356Z",
     "start_time": "2017-03-10T10:49:07.294366+01:00"
    },
    "collapsed": false,
    "deletable": true,
    "editable": true
   },
   "outputs": [
    {
     "name": "stdout",
     "output_type": "stream",
     "text": [
      "Count: \tSize: \tFileID:\n",
      "3 \t4141 \tREADME.md\n"
     ]
    }
   ],
   "source": [
    "%bitmag get-file-ids -c books"
   ]
  },
  {
   "cell_type": "markdown",
   "metadata": {
    "deletable": true,
    "editable": true
   },
   "source": [
    "### Calculate checksum for the file."
   ]
  },
  {
   "cell_type": "markdown",
   "metadata": {
    "deletable": true,
    "editable": true
   },
   "source": [
    "#### Verify that all pillars deliver and agree on the checksum. "
   ]
  },
  {
   "cell_type": "code",
   "execution_count": 16,
   "metadata": {
    "ExecuteTime": {
     "end_time": "2017-03-10T09:49:12.433253Z",
     "start_time": "2017-03-10T10:49:10.067270+01:00"
    },
    "collapsed": false,
    "deletable": true,
    "editable": true
   },
   "outputs": [
    {
     "name": "stdout",
     "output_type": "stream",
     "text": [
      "Count: \tChecksum: \tPillars: \tFileID: \r\n"
     ]
    }
   ],
   "source": [
    "%bitmag get-checksums -c books -i logback.xml"
   ]
  },
  {
   "cell_type": "markdown",
   "metadata": {
    "deletable": true,
    "editable": true
   },
   "source": [
    "#### Verify that the checksum differs from the one for the old file. "
   ]
  },
  {
   "cell_type": "code",
   "execution_count": 17,
   "metadata": {
    "ExecuteTime": {
     "end_time": "2017-03-10T09:49:14.634181Z",
     "start_time": "2017-03-10T10:49:12.434918+01:00"
    },
    "collapsed": false,
    "deletable": true,
    "editable": true
   },
   "outputs": [
    {
     "name": "stdout",
     "output_type": "stream",
     "text": [
      "12a9bafc6c9b531e81a5150ac6a20e25  bitrepository-quickstart/commandline/logback.xml\n",
      "Count: \tChecksum: \tPillars: \tFileID: \n"
     ]
    }
   ],
   "source": [
    "!md5sum bitrepository-quickstart/commandline/logback.xml\n",
    "%bitmag get-checksums -c books -i logback.xml"
   ]
  },
  {
   "cell_type": "markdown",
   "metadata": {
    "deletable": true,
    "editable": true
   },
   "source": [
    "### Get file from pillar"
   ]
  },
  {
   "cell_type": "markdown",
   "metadata": {
    "deletable": true,
    "editable": true
   },
   "source": [
    "#### Verify that the files content is the same as the file uploaded during the replace action. "
   ]
  },
  {
   "cell_type": "code",
   "execution_count": 18,
   "metadata": {
    "ExecuteTime": {
     "end_time": "2017-03-10T09:49:16.943025Z",
     "start_time": "2017-03-10T10:49:14.635880+01:00"
    },
    "collapsed": false,
    "deletable": true,
    "editable": true
   },
   "outputs": [
    {
     "name": "stdout",
     "output_type": "stream",
     "text": [
      "Failure: fa8906c5: GET_FILE for file logback.xml: FAILED: , Unable to continue operation, contributors unavailable.\n",
      "md5sum: logback.downloaded.xml: No such file or directory\n",
      "814c749c9618629a13c0e13c5f05f845  logback.changed.xml\n"
     ]
    }
   ],
   "source": [
    "%bitmag get-file -c books -i logback.xml -l logback.downloaded.xml \n",
    "!md5sum logback.downloaded.xml \n",
    "!md5sum logback.changed.xml"
   ]
  },
  {
   "cell_type": "markdown",
   "metadata": {
    "deletable": true,
    "editable": true
   },
   "source": [
    "### Delete the file on all pillars"
   ]
  },
  {
   "cell_type": "markdown",
   "metadata": {
    "deletable": true,
    "editable": true
   },
   "source": [
    "Wait for the operation(s) to complete with success "
   ]
  },
  {
   "cell_type": "code",
   "execution_count": 19,
   "metadata": {
    "ExecuteTime": {
     "end_time": "2017-03-10T09:49:23.259186Z",
     "start_time": "2017-03-10T10:49:16.944738+01:00"
    },
    "collapsed": true,
    "deletable": true,
    "editable": true
   },
   "outputs": [],
   "source": [
    "oldhash=!md5sum logback.changed.xml | cut -d' ' -f1\n",
    "%bitmag delete -c books -i logback.xml -C {oldhash} -p file1-pillar\n",
    "%bitmag delete -c books -i logback.xml -C {oldhash} -p file2-pillar\n",
    "%bitmag delete -c books -i logback.xml -C {oldhash} -p checksum-pillar"
   ]
  },
  {
   "cell_type": "markdown",
   "metadata": {
    "deletable": true,
    "editable": true
   },
   "source": [
    "### List all files"
   ]
  },
  {
   "cell_type": "markdown",
   "metadata": {
    "deletable": true,
    "editable": true
   },
   "source": [
    "#### Verify that the file is no longer present on any pillars. "
   ]
  },
  {
   "cell_type": "code",
   "execution_count": 20,
   "metadata": {
    "ExecuteTime": {
     "end_time": "2017-03-10T09:49:25.373816Z",
     "start_time": "2017-03-10T10:49:23.260966+01:00"
    },
    "collapsed": false,
    "deletable": true,
    "editable": true
   },
   "outputs": [
    {
     "name": "stdout",
     "output_type": "stream",
     "text": [
      "Count: \tSize: \tFileID:\r\n"
     ]
    }
   ],
   "source": [
    "%bitmag get-file-ids -c books -i logback.xml"
   ]
  },
  {
   "cell_type": "markdown",
   "metadata": {
    "deletable": true,
    "editable": true
   },
   "source": [
    "# Stopping and restarting the quickstart"
   ]
  },
  {
   "cell_type": "markdown",
   "metadata": {
    "deletable": true,
    "editable": true
   },
   "source": [
    "Use the quickstart script to stop and start the quickstart components:"
   ]
  },
  {
   "cell_type": "code",
   "execution_count": 21,
   "metadata": {
    "ExecuteTime": {
     "end_time": "2017-03-10T09:49:28.553390Z",
     "start_time": "2017-03-10T10:49:25.375784+01:00"
    },
    "collapsed": false,
    "deletable": true,
    "editable": true
   },
   "outputs": [
    {
     "name": "stdout",
     "output_type": "stream",
     "text": [
      "Using CATALINA_BASE:   /home/abr/Projects/jupyter-release-tests/bitrepository-quickstart/tomcat\n",
      "Using CATALINA_HOME:   /home/abr/Projects/jupyter-release-tests/bitrepository-quickstart/tomcat\n",
      "Using CATALINA_TMPDIR: /home/abr/Projects/jupyter-release-tests/bitrepository-quickstart/tomcat/temp\n",
      "Using JRE_HOME:        /usr/lib/jvm/java-8-openjdk-amd64/\n",
      "Using CLASSPATH:       /home/abr/Projects/jupyter-release-tests/bitrepository-quickstart/tomcat/bin/bootstrap.jar:/home/abr/Projects/jupyter-release-tests/bitrepository-quickstart/tomcat/bin/tomcat-juli.jar\n",
      "Using CATALINA_PID:    /home/abr/Projects/jupyter-release-tests/bitrepository-quickstart/tomcat/pid.tomcat\n",
      "PID file found but no matching process was found. Stop aborted.\n",
      "pillar has been stopped\n",
      "pillar has been stopped\n",
      "pillar has been stopped\n"
     ]
    }
   ],
   "source": [
    "!bitrepository-quickstart/quickstart.sh stop"
   ]
  },
  {
   "cell_type": "markdown",
   "metadata": {
    "deletable": true,
    "editable": true
   },
   "source": [
    "Use these commands to stop the docker servers again"
   ]
  },
  {
   "cell_type": "code",
   "execution_count": 22,
   "metadata": {
    "ExecuteTime": {
     "end_time": "2017-03-10T09:49:38.927916Z",
     "start_time": "2017-03-10T10:49:28.554992+01:00"
    },
    "collapsed": false,
    "deletable": true,
    "editable": true
   },
   "outputs": [
    {
     "name": "stdout",
     "output_type": "stream",
     "text": [
      "webdav\r\n"
     ]
    }
   ],
   "source": [
    "!docker stop webdav"
   ]
  },
  {
   "cell_type": "code",
   "execution_count": 23,
   "metadata": {
    "ExecuteTime": {
     "end_time": "2017-03-10T09:49:49.330261Z",
     "start_time": "2017-03-10T10:49:38.929702+01:00"
    },
    "collapsed": false,
    "deletable": true,
    "editable": true
   },
   "outputs": [
    {
     "name": "stdout",
     "output_type": "stream",
     "text": [
      "activemq\r\n"
     ]
    }
   ],
   "source": [
    "!docker stop activemq"
   ]
  },
  {
   "cell_type": "code",
   "execution_count": 24,
   "metadata": {
    "ExecuteTime": {
     "end_time": "2017-03-10T09:49:49.453334Z",
     "start_time": "2017-03-10T10:49:49.332073+01:00"
    },
    "collapsed": false,
    "deletable": true,
    "editable": true
   },
   "outputs": [
    {
     "name": "stdout",
     "output_type": "stream",
     "text": [
      "CONTAINER ID        IMAGE               COMMAND             CREATED             STATUS              PORTS               NAMES\r\n"
     ]
    }
   ],
   "source": [
    "!docker ps"
   ]
  }
 ],
 "metadata": {
  "kernelspec": {
   "display_name": "Python 3",
   "language": "python",
   "name": "python3"
  },
  "language_info": {
   "codemirror_mode": {
    "name": "ipython",
    "version": 3
   },
   "file_extension": ".py",
   "mimetype": "text/x-python",
   "name": "python",
   "nbconvert_exporter": "python",
   "pygments_lexer": "ipython3",
   "version": "3.5.2+"
  },
  "toc": {
   "colors": {
    "hover_highlight": "#DAA520",
    "running_highlight": "#FF0000",
    "selected_highlight": "#FFD700"
   },
   "moveMenuLeft": true,
   "nav_menu": {
    "height": "512px",
    "width": "252px"
   },
   "navigate_menu": true,
   "number_sections": true,
   "sideBar": true,
   "threshold": 4,
   "toc_cell": false,
   "toc_section_display": "block",
   "toc_window_display": true
  }
 },
 "nbformat": 4,
 "nbformat_minor": 2
}
