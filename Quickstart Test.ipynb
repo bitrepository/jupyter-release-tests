{
 "cells": [
  {
   "cell_type": "markdown",
   "metadata": {},
   "source": [
    "# Introduction"
   ]
  },
  {
   "cell_type": "markdown",
   "metadata": {},
   "source": [
    "The Bitrepository quickstart is a package for quickly getting a basic fully functioning bitrepository reference system up on a localhost.\n",
    "\n",
    "The quickstart will setup a bitrepository comprised of:\n",
    "* Webclient\n",
    "* AuditTrail service\n",
    "* Alarm service\n",
    "* Integrity service\n",
    "* Monitoring (status) service\n",
    "* 1 checksum pillar\n",
    "* 2 reference pillars\n",
    "\n",
    "As the setup is basic – encryption, authentication and authorization is not enabled in the quickstart."
   ]
  },
  {
   "cell_type": "markdown",
   "metadata": {},
   "source": [
    "# Prerequisites and requirements"
   ]
  },
  {
   "cell_type": "markdown",
   "metadata": {},
   "source": [
    "For the quickstart to work some prerequisites and requirements exists.\n",
    "\n",
    "All the quickstart components are meant to run on the same machine in an Linux environment. Possibility accessible from other machines, provided that firewall rules allow."
   ]
  },
  {
   "cell_type": "markdown",
   "metadata": {},
   "source": [
    "## Infrastructure"
   ]
  },
  {
   "cell_type": "markdown",
   "metadata": {},
   "source": [
    "The quickstart needs some infrastructure, for message exchange and file exchange"
   ]
  },
  {
   "cell_type": "markdown",
   "metadata": {},
   "source": [
    "### Message bus"
   ]
  },
  {
   "cell_type": "markdown",
   "metadata": {},
   "source": [
    "The bitrepository needs an Apache Active MQ for sending messages between components. In the quickstart it is assumed that it is accessible on the localhost on the default port using a tcp connection. I.e. tcp://localhost:61616\n",
    "\n",
    "It must not require any authentication to connect.\n",
    "\n",
    "The default settings from the Apache Active MQ destribution will suffice, but the user/deployer is free to make changes to the Active MQ installation as long as the MQ can be reached as described above.\n",
    "\n",
    "If the MQ is not available on the above url, the pillars and services simply will not work.\n",
    "\n",
    "Apache Active MQ can be obtained from the ActiveMQ download site.\n",
    "\n",
    "You can run this process in docker with this command"
   ]
  },
  {
   "cell_type": "code",
   "execution_count": null,
   "metadata": {
    "ExecuteTime": {
     "end_time": "2017-03-09T15:45:24.409387",
     "start_time": "2017-03-09T15:45:23.903785"
    },
    "collapsed": false
   },
   "outputs": [],
   "source": [
    "!docker run \\\n",
    "    --detach \\\n",
    "    --rm \\\n",
    "    --env 'ACTIVEMQ_MIN_MEMORY=512' \\\n",
    "    --env 'ACTIVEMQ_MAX_MEMORY=2048' \\\n",
    "    --publish 61616:61616  \\\n",
    "    --name activemq \\\n",
    "    webcenter/activemq:5.12.0 \\\n",
    "    /opt/activemq/bin/activemq console"
   ]
  },
  {
   "cell_type": "markdown",
   "metadata": {},
   "source": [
    "You can stop the activemq server again with this command"
   ]
  },
  {
   "cell_type": "code",
   "execution_count": null,
   "metadata": {
    "ExecuteTime": {
     "end_time": "2017-03-09T15:48:47.785172",
     "start_time": "2017-03-09T15:48:47.663709"
    },
    "collapsed": false
   },
   "outputs": [],
   "source": [
    "!docker stop activemq"
   ]
  },
  {
   "cell_type": "markdown",
   "metadata": {},
   "source": [
    "### Webserver"
   ]
  },
  {
   "cell_type": "markdown",
   "metadata": {},
   "source": [
    "Per design the bitrepository uses a webdav server for file transfer. The quickstart configuration assumes that a webdav server is available on http://localhost/dav/.\n",
    "\n",
    "It must not require any authentication to connect.\n",
    "\n",
    "If no Webdav server is available see File Exchange Server Setup for references on setup. \n",
    "\n",
    "Should there be a HTTP server running on localhost that does not support webdav, or that use of another webdav server is wanted, then the ReferenceSettings.xml files for the AuditTrailService and CommandLine client needs to be have their FileExchange section changed to reflect this.\n",
    "\n",
    "As the file location is specified per request this is not a hard requirement for deployment of the quickstart package, but something that needs to be taken into consideration.\n",
    "\n",
    "You can run a apache2 based webdav server in docker with this easy command"
   ]
  },
  {
   "cell_type": "code",
   "execution_count": null,
   "metadata": {
    "ExecuteTime": {
     "end_time": "2017-03-09T15:46:16.309512",
     "start_time": "2017-03-09T15:46:15.863531"
    },
    "collapsed": false
   },
   "outputs": [],
   "source": [
    "!docker run \\\n",
    "    --detach \\\n",
    "    --publish 80:80 \\\n",
    "    --name webdav \\\n",
    "    blekinge/apache_webdav"
   ]
  },
  {
   "cell_type": "markdown",
   "metadata": {},
   "source": [
    "You can stop this webdav server again with this command"
   ]
  },
  {
   "cell_type": "code",
   "execution_count": null,
   "metadata": {
    "ExecuteTime": {
     "end_time": "2017-03-09T15:48:08.609707",
     "start_time": "2017-03-09T15:48:08.487082"
    },
    "collapsed": false
   },
   "outputs": [],
   "source": [
    "!docker stop webdav"
   ]
  },
  {
   "cell_type": "markdown",
   "metadata": {},
   "source": [
    "## Runtime requirements"
   ]
  },
  {
   "cell_type": "markdown",
   "metadata": {},
   "source": [
    "To run the quickstart a few system requirements must be in place.\n",
    "\n",
    "A java runtime enviroment 1.8 or newer is needed.\n",
    "\n",
    "For the quickstart.sh script, the \"curl\" is needed to retrieve the Tomcat servlet container."
   ]
  },
  {
   "cell_type": "markdown",
   "metadata": {},
   "source": [
    "# Running the quickstart"
   ]
  },
  {
   "cell_type": "markdown",
   "metadata": {},
   "source": [
    "When having ensured the above mentioned requirements are in place the quickstart package should be obtained from: [Quickstart](https://sbforge.org/nexus/content/repositories/releases/org/bitrepository/reference/bitrepository-integration/) ([newest release](https://sbforge.org/nexus/content/repositories/releases/org/bitrepository/reference/bitrepository-integration/1.8/bitrepository-integration-1.8-quickstart.tar.gz), [devel version](https://sbforge.org/nexus/service/local/artifact/maven/redirect?g=org.bitrepository.reference&a=bitrepository-integration&v=LATEST&r=snapshots&p=tar.gz&c=quickstart&)).\n",
    "\n",
    "The quickstart tar.gz should be unpackaged.\n",
    "\n",
    "Via the commandline cd to the unpacked directory and run the command \"./setup.sh\"\n",
    "\n",
    "The first time running the setup script will adapt the configuration files to work with the deployed destination. Thus the quickstart will stop working if the quickstart directory is moved to another destination after the first run.\n",
    "\n",
    "Running the setup.sh script does the following:\n",
    "\n",
    "* Adapt the configuration files to the environment (first run only)\n",
    "* Create sub directories and deploy the needed components to them.\n",
    "* Start the pillars\n",
    "* Download a Tomcat server for services and webclient\n",
    "* Deploy services and webclient to Tomcat server and start it.\n",
    "* After the script has finished the system should be accessible through: http://localhost:8080/bitrepository-webclient"
   ]
  },
  {
   "cell_type": "code",
   "execution_count": null,
   "metadata": {
    "collapsed": true
   },
   "outputs": [],
   "source": [
    "%%bash\n",
    "wget -Nq \"https://sbforge.org/nexus/service/local/artifact/maven/redirect?g=org.bitrepository.reference&a=bitrepository-integration&v=LATEST&r=snapshots&p=tar.gz&c=quickstart&\" -O quickstart.tgz\n",
    "tar -xzf quickstart.tgz"
   ]
  },
  {
   "cell_type": "code",
   "execution_count": null,
   "metadata": {
    "ExecuteTime": {
     "end_time": "2017-03-09T15:10:47.231210",
     "start_time": "2017-03-09T15:10:42.468657"
    },
    "collapsed": false
   },
   "outputs": [],
   "source": [
    "%%bash\n",
    "cd bitrepository-quickstart\n",
    "./setup.sh"
   ]
  },
  {
   "cell_type": "markdown",
   "metadata": {},
   "source": [
    "# Sanity Tests"
   ]
  },
  {
   "cell_type": "markdown",
   "metadata": {},
   "source": [
    "Test for checking the sanity of the system as a whole. This means a roundtrip with only sunshine usage of the system getting through all the core functionality"
   ]
  },
  {
   "cell_type": "markdown",
   "metadata": {},
   "source": [
    "## Sunshine roundtrip"
   ]
  },
  {
   "cell_type": "markdown",
   "metadata": {},
   "source": [
    "The purpose of the test is to make certain that the core functionality works as expected when behaving nicely. The test is designed such that the system state is the same prior to the test starting and after ending it - provided that the test passes. This also means that the test can be repeated an arbitrary number of times as long as it passes. "
   ]
  },
  {
   "cell_type": "markdown",
   "metadata": {},
   "source": [
    "In the following the same fileID is used in all operations. The only restriction is that the fileID is valid for all components in the test, and is not already present in the collection."
   ]
  },
  {
   "cell_type": "markdown",
   "metadata": {},
   "source": [
    "### List all fileID's to and note which files are present in the collection. "
   ]
  },
  {
   "cell_type": "code",
   "execution_count": null,
   "metadata": {
    "ExecuteTime": {
     "end_time": "2017-03-09T15:31:59.734835",
     "start_time": "2017-03-09T15:31:57.188698"
    },
    "collapsed": false
   },
   "outputs": [],
   "source": [
    "!bitrepository-quickstart/commandline/bin/bitmag.sh get-file-ids -c books"
   ]
  },
  {
   "cell_type": "markdown",
   "metadata": {},
   "source": [
    "### Put a file with an allowed fileID which is not already in the collection. \n",
    "Wait for the put file operation to finish with success for all pillars. "
   ]
  },
  {
   "cell_type": "code",
   "execution_count": null,
   "metadata": {
    "ExecuteTime": {
     "end_time": "2017-03-09T15:32:05.283799",
     "start_time": "2017-03-09T15:32:02.076153"
    },
    "collapsed": false
   },
   "outputs": [],
   "source": [
    "!bitrepository-quickstart/commandline/bin/bitmag.sh put-file -c books -f bitrepository-quickstart/commandline/logback.xml"
   ]
  },
  {
   "cell_type": "markdown",
   "metadata": {},
   "source": [
    "### List all files"
   ]
  },
  {
   "cell_type": "markdown",
   "metadata": {},
   "source": [
    "#### Verify that the file put in 1 is present in the listing and that it is present on all (3) pillars in the collection. "
   ]
  },
  {
   "cell_type": "code",
   "execution_count": null,
   "metadata": {
    "ExecuteTime": {
     "end_time": "2017-03-09T15:32:33.919992",
     "start_time": "2017-03-09T15:32:31.349555"
    },
    "collapsed": false
   },
   "outputs": [],
   "source": [
    "!bitrepository-quickstart/commandline/bin/bitmag.sh get-file-ids -c books"
   ]
  },
  {
   "cell_type": "markdown",
   "metadata": {},
   "source": [
    "#### Trigger a collection of audittrails, and verify that the new file is present in the list of audit trail events. "
   ]
  },
  {
   "cell_type": "markdown",
   "metadata": {},
   "source": [
    "http://localhost:8080/bitrepository-webclient/audit-trail-service.html"
   ]
  },
  {
   "cell_type": "markdown",
   "metadata": {},
   "source": [
    "#### Trigger a full integrity check, and verify that the new file is present and consistent. "
   ]
  },
  {
   "cell_type": "markdown",
   "metadata": {},
   "source": [
    "http://localhost:8080/bitrepository-webclient/integrity-service.html "
   ]
  },
  {
   "cell_type": "markdown",
   "metadata": {},
   "source": [
    "### Request a MD5 checksum for the file."
   ]
  },
  {
   "cell_type": "markdown",
   "metadata": {},
   "source": [
    "#### Verify that all pillars deliver the requested checksum, and that all pillars agree on the checksum value. "
   ]
  },
  {
   "cell_type": "code",
   "execution_count": null,
   "metadata": {
    "ExecuteTime": {
     "end_time": "2017-03-09T15:33:50.902653",
     "start_time": "2017-03-09T15:33:47.775423"
    },
    "collapsed": false
   },
   "outputs": [],
   "source": [
    "!bitrepository-quickstart/commandline/bin/bitmag.sh get-checksums -c books -i logback.xml"
   ]
  },
  {
   "cell_type": "markdown",
   "metadata": {},
   "source": [
    "### Request a salted checksum request."
   ]
  },
  {
   "cell_type": "markdown",
   "metadata": {},
   "source": [
    "#### Verify that the checksum pillar is unable to perform the operation. "
   ]
  },
  {
   "cell_type": "code",
   "execution_count": null,
   "metadata": {
    "ExecuteTime": {
     "end_time": "2017-03-09T15:34:13.028115",
     "start_time": "2017-03-09T15:34:11.093240"
    },
    "collapsed": false
   },
   "outputs": [],
   "source": [
    "!bitrepository-quickstart/commandline/bin/bitmag.sh get-checksums -c books -i logback.xml -S abcd -R MD5 -p checksum-pillar"
   ]
  },
  {
   "cell_type": "markdown",
   "metadata": {},
   "source": [
    "#### Verify that all full pillars deliver and agree on the new calculation. "
   ]
  },
  {
   "cell_type": "code",
   "execution_count": null,
   "metadata": {
    "ExecuteTime": {
     "end_time": "2017-03-09T15:34:50.267274",
     "start_time": "2017-03-09T15:34:47.269913"
    },
    "collapsed": false
   },
   "outputs": [],
   "source": [
    "!bitrepository-quickstart/commandline/bin/bitmag.sh get-checksums -c books -i logback.xml -S abcd -R MD5  "
   ]
  },
  {
   "cell_type": "markdown",
   "metadata": {},
   "source": [
    "#### Verify that the salted checksum differs from the non-salted. "
   ]
  },
  {
   "cell_type": "code",
   "execution_count": null,
   "metadata": {
    "ExecuteTime": {
     "end_time": "2017-03-09T15:36:04.802024",
     "start_time": "2017-03-09T15:35:59.878722"
    },
    "collapsed": false
   },
   "outputs": [],
   "source": [
    "!bitrepository-quickstart/commandline/bin/bitmag.sh get-checksums -c books -i logback.xml -R MD5\n",
    "!bitrepository-quickstart/commandline/bin/bitmag.sh get-checksums -c books -i logback.xml -S 'abcd' -R MD5"
   ]
  },
  {
   "cell_type": "markdown",
   "metadata": {},
   "source": [
    "### Get file from pillar"
   ]
  },
  {
   "cell_type": "markdown",
   "metadata": {},
   "source": [
    "#### Verify its content is the same as the file that was previously put. "
   ]
  },
  {
   "cell_type": "code",
   "execution_count": null,
   "metadata": {
    "ExecuteTime": {
     "end_time": "2017-03-09T15:37:11.591451",
     "start_time": "2017-03-09T15:37:09.409580"
    },
    "collapsed": false
   },
   "outputs": [],
   "source": [
    "%%bash\n",
    "md5sum bitrepository-quickstart/commandline/logback.xml\n",
    "bitrepository-quickstart/commandline/bin/bitmag.sh get-file -c books -i logback.xml -l logback.tmp.xml\n",
    "md5sum logback.tmp.xml"
   ]
  },
  {
   "cell_type": "markdown",
   "metadata": {},
   "source": [
    "### Replace the file with a new file with different content than the original on each pillar. "
   ]
  },
  {
   "cell_type": "code",
   "execution_count": null,
   "metadata": {
    "ExecuteTime": {
     "end_time": "2017-03-09T15:38:27.091089",
     "start_time": "2017-03-09T15:38:19.922642"
    },
    "collapsed": true
   },
   "outputs": [],
   "source": [
    "%%bash\n",
    "xmllint bitrepository-quickstart/commandline/logback.xml > logback.changed.xml\n",
    "oldhash=$(md5sum bitrepository-quickstart/commandline/logback.xml | cut -d' ' -f1)\n",
    "bitrepository-quickstart/commandline/bin/bitmag.sh replace-file -c books -i logback.xml -f logback.changed.xml -C $oldhash -p file1-pillar\n",
    "bitrepository-quickstart/commandline/bin/bitmag.sh replace-file -c books -i logback.xml -f logback.changed.xml -C $oldhash -p file2-pillar\n",
    "bitrepository-quickstart/commandline/bin/bitmag.sh replace-file -c books -i logback.xml -f logback.changed.xml -C $oldhash -p checksum-pillar"
   ]
  },
  {
   "cell_type": "markdown",
   "metadata": {},
   "source": [
    "Wait for each pillar to complete the operation."
   ]
  },
  {
   "cell_type": "markdown",
   "metadata": {},
   "source": [
    "### List all files"
   ]
  },
  {
   "cell_type": "markdown",
   "metadata": {},
   "source": [
    "#### Verify that the fileID is still present on all pillars. "
   ]
  },
  {
   "cell_type": "code",
   "execution_count": null,
   "metadata": {
    "ExecuteTime": {
     "end_time": "2017-03-09T15:38:35.236285",
     "start_time": "2017-03-09T15:38:32.705178"
    },
    "collapsed": false
   },
   "outputs": [],
   "source": [
    "!bitrepository-quickstart/commandline/bin/bitmag.sh get-file-ids -c books"
   ]
  },
  {
   "cell_type": "markdown",
   "metadata": {},
   "source": [
    "### Calculate checksum for the file."
   ]
  },
  {
   "cell_type": "markdown",
   "metadata": {},
   "source": [
    "#### Verify that all pillars deliver and agree on the checksum. "
   ]
  },
  {
   "cell_type": "code",
   "execution_count": null,
   "metadata": {
    "ExecuteTime": {
     "end_time": "2017-03-09T15:39:01.198703",
     "start_time": "2017-03-09T15:38:58.497925"
    },
    "collapsed": false
   },
   "outputs": [],
   "source": [
    "!bitrepository-quickstart/commandline/bin/bitmag.sh get-checksums -c books -i logback.xml"
   ]
  },
  {
   "cell_type": "markdown",
   "metadata": {},
   "source": [
    "#### Verify that the checksum differs from the one for the old file. "
   ]
  },
  {
   "cell_type": "code",
   "execution_count": null,
   "metadata": {
    "ExecuteTime": {
     "end_time": "2017-03-09T15:39:42.184363",
     "start_time": "2017-03-09T15:39:39.531942"
    },
    "collapsed": false
   },
   "outputs": [],
   "source": [
    "!md5sum bitrepository-quickstart/commandline/logback.xml\n",
    "!bitrepository-quickstart/commandline/bin/bitmag.sh get-checksums -c books -i logback.xml"
   ]
  },
  {
   "cell_type": "markdown",
   "metadata": {},
   "source": [
    "### Get file from pillar"
   ]
  },
  {
   "cell_type": "markdown",
   "metadata": {},
   "source": [
    "#### Verify that the files content is the same as the file uploaded during the replace action. "
   ]
  },
  {
   "cell_type": "code",
   "execution_count": null,
   "metadata": {
    "ExecuteTime": {
     "end_time": "2017-03-09T15:40:15.167834",
     "start_time": "2017-03-09T15:40:12.701579"
    },
    "collapsed": false
   },
   "outputs": [],
   "source": [
    "!bitrepository-quickstart/commandline/bin/bitmag.sh get-file -c books -i logback.xml -l logback.downloaded.xml \n",
    "!md5sum logback.downloaded.xml \n",
    "!md5sum logback.changed.xml"
   ]
  },
  {
   "cell_type": "markdown",
   "metadata": {},
   "source": [
    "### Delete the file on all pillars"
   ]
  },
  {
   "cell_type": "markdown",
   "metadata": {},
   "source": [
    "Wait for the operation(s) to complete with success "
   ]
  },
  {
   "cell_type": "code",
   "execution_count": null,
   "metadata": {
    "ExecuteTime": {
     "end_time": "2017-03-09T15:41:24.750278",
     "start_time": "2017-03-09T15:41:18.699420"
    },
    "collapsed": true
   },
   "outputs": [],
   "source": [
    "%%bash\n",
    "oldhash=$(md5sum logback.changed.xml | cut -d' ' -f1)\n",
    "bitrepository-quickstart/commandline/bin/bitmag.sh delete -c books -i logback.xml -C $oldhash -p file1-pillar\n",
    "bitrepository-quickstart/commandline/bin/bitmag.sh delete -c books -i logback.xml -C $oldhash -p file2-pillar\n",
    "bitrepository-quickstart/commandline/bin/bitmag.sh delete -c books -i logback.xml -C $oldhash -p checksum-pillar"
   ]
  },
  {
   "cell_type": "markdown",
   "metadata": {},
   "source": [
    "### List all files"
   ]
  },
  {
   "cell_type": "markdown",
   "metadata": {},
   "source": [
    "#### Verify that the file is no longer present on any pillars. "
   ]
  },
  {
   "cell_type": "code",
   "execution_count": null,
   "metadata": {
    "ExecuteTime": {
     "end_time": "2017-03-09T15:41:30.373161",
     "start_time": "2017-03-09T15:41:28.354012"
    },
    "collapsed": false
   },
   "outputs": [],
   "source": [
    "!bitrepository-quickstart/commandline/bin/bitmag.sh get-file-ids -c books -i logback.xml"
   ]
  },
  {
   "cell_type": "markdown",
   "metadata": {
    "deletable": true,
    "editable": true,
    "heading_collapsed": true
   },
   "source": [
    "# Stopping and restarting the quickstart"
   ]
  },
  {
   "cell_type": "markdown",
   "metadata": {
    "deletable": true,
    "editable": true,
    "hidden": true
   },
   "source": [
    "Use the quickstart script to stop and start the quickstart components:"
   ]
  },
  {
   "cell_type": "code",
   "execution_count": null,
   "metadata": {
    "collapsed": true,
    "deletable": true,
    "editable": true,
    "hidden": true
   },
   "outputs": [],
   "source": [
    "!./quickstart.sh stop"
   ]
  },
  {
   "cell_type": "markdown",
   "metadata": {
    "deletable": true,
    "editable": true,
    "hidden": true
   },
   "source": [
    "Use these commands to stop the docker servers again"
   ]
  },
  {
   "cell_type": "code",
   "execution_count": null,
   "metadata": {
    "ExecuteTime": {
     "end_time": "2017-03-09T15:47:12.369405",
     "start_time": "2017-03-09T15:47:01.991563"
    },
    "collapsed": false,
    "deletable": true,
    "editable": true,
    "hidden": true
   },
   "outputs": [],
   "source": [
    "!docker stop webdav"
   ]
  },
  {
   "cell_type": "code",
   "execution_count": null,
   "metadata": {
    "ExecuteTime": {
     "end_time": "2017-03-09T15:47:22.768653",
     "start_time": "2017-03-09T15:47:12.370784"
    },
    "collapsed": false,
    "deletable": true,
    "editable": true,
    "hidden": true
   },
   "outputs": [],
   "source": [
    "!docker stop activemq"
   ]
  },
  {
   "cell_type": "code",
   "execution_count": null,
   "metadata": {
    "ExecuteTime": {
     "end_time": "2017-03-09T15:47:36.875124",
     "start_time": "2017-03-09T15:47:36.752402"
    },
    "collapsed": false,
    "deletable": true,
    "editable": true,
    "hidden": true
   },
   "outputs": [],
   "source": [
    "!docker ps"
   ]
  }
 ],
 "metadata": {
  "kernelspec": {
   "display_name": "Python 3",
   "language": "python",
   "name": "python3"
  },
  "language_info": {
   "codemirror_mode": {
    "name": "ipython",
    "version": 3
   },
   "file_extension": ".py",
   "mimetype": "text/x-python",
   "name": "python",
   "nbconvert_exporter": "python",
   "pygments_lexer": "ipython3",
   "version": "3.5.2+"
  },
  "toc": {
   "colors": {
    "hover_highlight": "#DAA520",
    "running_highlight": "#FF0000",
    "selected_highlight": "#FFD700"
   },
   "moveMenuLeft": true,
   "nav_menu": {
    "height": "512px",
    "width": "252px"
   },
   "navigate_menu": true,
   "number_sections": true,
   "sideBar": true,
   "threshold": 4,
   "toc_cell": false,
   "toc_section_display": "block",
   "toc_window_display": true
  }
 },
 "nbformat": 4,
 "nbformat_minor": 2
}
