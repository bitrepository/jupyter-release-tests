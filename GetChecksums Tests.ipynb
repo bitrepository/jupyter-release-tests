{
 "cells": [
  {
   "cell_type": "markdown",
   "metadata": {
    "deletable": true,
    "editable": true
   },
   "source": [
    "# Setup command line client"
   ]
  },
  {
   "cell_type": "code",
   "execution_count": 1,
   "metadata": {
    "ExecuteTime": {
     "end_time": "2017-03-09T16:04:18.632183Z",
     "start_time": "2017-03-09T17:04:18.598814+01:00"
    },
    "collapsed": false,
    "deletable": true,
    "editable": true,
    "init_cell": true
   },
   "outputs": [
    {
     "data": {
      "text/plain": [
       "'/home/abr/Projects/jupyter-release-tests'"
      ]
     },
     "execution_count": 1,
     "metadata": {},
     "output_type": "execute_result"
    }
   ],
   "source": [
    "%env CLIENT bitrepository-client-1.9-RC1\n",
    "\n",
    "!wget -Nq \"https://sbforge.org/download/attachments/25395346/${CLIENT}.zip\"\n",
    "!unzip -quo ${CLIENT}.zip\n",
    "\n",
    "%alias bitmag ${CLIENT}/bin/bitmag.sh %l"
   ]
  },
  {
   "cell_type": "markdown",
   "metadata": {
    "deletable": true,
    "editable": true
   },
   "source": [
    "# Describes the tests needed to validate the GetChecksums functionality."
   ]
  },
  {
   "cell_type": "markdown",
   "metadata": {
    "deletable": true,
    "editable": true
   },
   "source": [
    "Upload a file with a known checksum for so we have something to test on"
   ]
  },
  {
   "cell_type": "code",
   "execution_count": 7,
   "metadata": {
    "ExecuteTime": {
     "end_time": "2017-03-09T16:05:27.244512Z",
     "start_time": "2017-03-09T17:05:27.241183+01:00"
    },
    "collapsed": false,
    "deletable": true,
    "editable": true
   },
   "outputs": [
    {
     "name": "stdout",
     "output_type": "stream",
     "text": [
      "env: TESTFILE1=README.md\n"
     ]
    }
   ],
   "source": [
    "%env TESTFILE1 README.md"
   ]
  },
  {
   "cell_type": "code",
   "execution_count": 8,
   "metadata": {
    "ExecuteTime": {
     "end_time": "2017-03-09T16:05:33.083456Z",
     "start_time": "2017-03-09T17:05:28.361034+01:00"
    },
    "collapsed": false,
    "deletable": true,
    "editable": true
   },
   "outputs": [
    {
     "name": "stdout",
     "output_type": "stream",
     "text": [
      "Failure: a2bf9c03: PUT_FILE for file README.md: FAILED: , Failed operation. Cause(s):\r\n",
      "[a2bf9c03: PUT_FILE for file README.md: COMPONENT_FAILED: ContributorID kbpillar2 ResponseCode: FILE_TRANSFER_FAILURE, File transfer for README.md to http://int-bitmag-01.kb.dk:80/dav/README.md]\r\n"
     ]
    }
   ],
   "source": [
    "%bitmag put-file -c integrationtest1 -f $TESTFILE1 -i $TESTFILE1"
   ]
  },
  {
   "cell_type": "markdown",
   "metadata": {
    "deletable": true,
    "editable": true
   },
   "source": [
    "## Basic getChecksum"
   ]
  },
  {
   "cell_type": "code",
   "execution_count": 9,
   "metadata": {
    "ExecuteTime": {
     "end_time": "2017-03-09T16:05:38.932868Z",
     "start_time": "2017-03-09T17:05:38.816987+01:00"
    },
    "collapsed": false,
    "deletable": true,
    "editable": true
   },
   "outputs": [
    {
     "name": "stdout",
     "output_type": "stream",
     "text": [
      "e3815360b4db52d61191d985b79a208c  README.md\r\n"
     ]
    }
   ],
   "source": [
    "!md5sum $TESTFILE1"
   ]
  },
  {
   "cell_type": "markdown",
   "metadata": {
    "deletable": true,
    "editable": true
   },
   "source": [
    "### Request the checksum of a file in the collection."
   ]
  },
  {
   "cell_type": "code",
   "execution_count": 10,
   "metadata": {
    "ExecuteTime": {
     "end_time": "2017-03-09T16:05:46.148530Z",
     "start_time": "2017-03-09T17:05:42.111309+01:00"
    },
    "collapsed": false,
    "deletable": true,
    "editable": true
   },
   "outputs": [
    {
     "name": "stdout",
     "output_type": "stream",
     "text": [
      "Count: \tChecksum: \tPillars: \tFileID: \n",
      "4 \te3815360b4db52d61191d985b79a208c \tAll \tREADME.md\n"
     ]
    }
   ],
   "source": [
    "%bitmag get-checksums -c integrationtest1 -i $TESTFILE1"
   ]
  },
  {
   "cell_type": "markdown",
   "metadata": {
    "deletable": true,
    "editable": true
   },
   "source": [
    "The correct checksum should be returned by all the pillars."
   ]
  },
  {
   "cell_type": "markdown",
   "metadata": {
    "deletable": true,
    "editable": true
   },
   "source": [
    "## getChecksum (salted)"
   ]
  },
  {
   "cell_type": "markdown",
   "metadata": {
    "deletable": true,
    "editable": true
   },
   "source": [
    "### Request the salted checksum of a file in the collection"
   ]
  },
  {
   "cell_type": "code",
   "execution_count": 12,
   "metadata": {
    "ExecuteTime": {
     "end_time": "2017-03-09T16:05:57.045589Z",
     "start_time": "2017-03-09T17:05:57.034258+01:00"
    },
    "collapsed": false,
    "deletable": true,
    "editable": true
   },
   "outputs": [
    {
     "name": "stdout",
     "output_type": "stream",
     "text": [
      "7ecaa01429e95892e3353be8356c9b40\n"
     ]
    }
   ],
   "source": [
    "import hmac\n",
    "import hashlib\n",
    "import base64\n",
    "\n",
    "def getSaltedChecksum(file,saltHex,algorithm):\n",
    "    #Note, the salt is a hex string\n",
    "    salt = bytearray.fromhex(saltHex)\n",
    "    digester = hmac.new(salt,None,algorithm)\n",
    "    with open(file,'rb') as from_fh:\n",
    "        while True:\n",
    "            chunk = from_fh.read()\n",
    "            if not chunk:\n",
    "                break\n",
    "            digester.update(chunk)\n",
    "    return digester.hexdigest().lower()\n",
    "\n",
    "file = os.environ.get('TESTFILE1')\n",
    "print(getSaltedChecksum(file,saltHex='abcd',algorithm=hashlib.md5))"
   ]
  },
  {
   "cell_type": "code",
   "execution_count": 14,
   "metadata": {
    "ExecuteTime": {
     "end_time": "2017-03-09T16:06:18.171775Z",
     "start_time": "2017-03-09T17:06:13.817328+01:00"
    },
    "collapsed": false,
    "deletable": true,
    "editable": true
   },
   "outputs": [
    {
     "name": "stdout",
     "output_type": "stream",
     "text": [
      "Count: \tChecksum: \tPillars: \tFileID: \n",
      "3 \t7ecaa01429e95892e3353be8356c9b40 \tAll \tREADME.md\n"
     ]
    }
   ],
   "source": [
    "%bitmag get-checksums -c integrationtest1 -i $TESTFILE1 -R HMAC_MD5 -S 'abcd'"
   ]
  },
  {
   "cell_type": "markdown",
   "metadata": {
    "deletable": true,
    "editable": true
   },
   "source": [
    "The correct salted checksum should be returned by all the pillars (except the ChecksumPillar)."
   ]
  },
  {
   "cell_type": "markdown",
   "metadata": {
    "deletable": true,
    "editable": true
   },
   "source": [
    "## Missing file"
   ]
  },
  {
   "cell_type": "markdown",
   "metadata": {
    "deletable": true,
    "editable": true
   },
   "source": [
    "Request the checksum of a file that does not exist in the collection."
   ]
  },
  {
   "cell_type": "code",
   "execution_count": 16,
   "metadata": {
    "ExecuteTime": {
     "end_time": "2017-03-09T16:07:24.390701Z",
     "start_time": "2017-03-09T17:07:20.758695+01:00"
    },
    "collapsed": false,
    "deletable": true,
    "editable": true
   },
   "outputs": [
    {
     "name": "stdout",
     "output_type": "stream",
     "text": [
      "Count: \tChecksum: \tPillars: \tFileID: \r\n"
     ]
    }
   ],
   "source": [
    "%bitmag get-checksums -c integrationtest1 -i ThisFileDoesNotExist"
   ]
  },
  {
   "cell_type": "markdown",
   "metadata": {
    "deletable": true,
    "editable": true
   },
   "source": [
    "No results should be returned."
   ]
  }
 ],
 "metadata": {
  "celltoolbar": "Initialisation Cell",
  "kernelspec": {
   "display_name": "Python 3",
   "language": "python",
   "name": "python3"
  },
  "language_info": {
   "codemirror_mode": {
    "name": "ipython",
    "version": 3
   },
   "file_extension": ".py",
   "mimetype": "text/x-python",
   "name": "python",
   "nbconvert_exporter": "python",
   "pygments_lexer": "ipython3",
   "version": "3.5.2+"
  },
  "toc": {
   "colors": {
    "hover_highlight": "#DAA520",
    "running_highlight": "#FF0000",
    "selected_highlight": "#FFD700"
   },
   "moveMenuLeft": true,
   "nav_menu": {
    "height": "333px",
    "width": "252px"
   },
   "navigate_menu": true,
   "number_sections": true,
   "sideBar": true,
   "threshold": 4,
   "toc_cell": false,
   "toc_section_display": "block",
   "toc_window_display": true
  }
 },
 "nbformat": 4,
 "nbformat_minor": 2
}
