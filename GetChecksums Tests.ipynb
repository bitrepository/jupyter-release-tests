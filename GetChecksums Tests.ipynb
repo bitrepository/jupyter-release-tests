{
 "cells": [
  {
   "cell_type": "markdown",
   "metadata": {
    "deletable": true,
    "editable": true
   },
   "source": [
    "# Setup command line client"
   ]
  },
  {
   "cell_type": "code",
   "execution_count": 1,
   "metadata": {
    "ExecuteTime": {
     "end_time": "2017-03-09T14:53:01.328755",
     "start_time": "2017-03-09T14:53:01.313077"
    },
    "collapsed": false,
    "deletable": true,
    "editable": true
   },
   "outputs": [
    {
     "data": {
      "text/plain": [
       "'/home/abr/Downloads/bitmag-release1.9-test'"
      ]
     },
     "execution_count": 1,
     "metadata": {},
     "output_type": "execute_result"
    }
   ],
   "source": [
    "%bookmark root\n",
    "import os\n",
    "os.getcwd()"
   ]
  },
  {
   "cell_type": "code",
   "execution_count": 2,
   "metadata": {
    "ExecuteTime": {
     "end_time": "2017-03-09T14:53:03.574348",
     "start_time": "2017-03-09T14:53:03.567629"
    },
    "collapsed": false,
    "deletable": true,
    "editable": true
   },
   "outputs": [
    {
     "name": "stdout",
     "output_type": "stream",
     "text": [
      "(bookmark:root) -> /home/abr/Downloads/bitmag-release1.9-test\n",
      "/home/abr/Downloads/bitmag-release1.9-test\n",
      "env: CLIENT=bitrepository-client-1.9-RC1\n",
      "Current bookmarks:\n",
      "CLIENT -> bitrepository-client-1.9-RC1\n",
      "root   -> /home/abr/Downloads/bitmag-release1.9-test\n"
     ]
    }
   ],
   "source": [
    "%cd -b root\n",
    "%bookmark CLIENT bitrepository-client-1.9-RC1\n",
    "%env CLIENT bitrepository-client-1.9-RC1\n",
    "%bookmark -l"
   ]
  },
  {
   "cell_type": "code",
   "execution_count": 3,
   "metadata": {
    "ExecuteTime": {
     "end_time": "2017-03-09T14:53:06.017292",
     "start_time": "2017-03-09T14:53:05.887429"
    },
    "collapsed": false,
    "deletable": true,
    "editable": true
   },
   "outputs": [
    {
     "name": "stdout",
     "output_type": "stream",
     "text": [
      "/home/abr/Downloads/bitmag-release1.9-test\n"
     ]
    }
   ],
   "source": [
    "%%bash\n",
    "pwd\n",
    "wget -Nq \"https://sbforge.org/download/attachments/25395346/${CLIENT}.zip\"\n",
    "rm -rf ${CLIENT}\n",
    "unzip -q ${CLIENT}.zip"
   ]
  },
  {
   "cell_type": "code",
   "execution_count": 4,
   "metadata": {
    "ExecuteTime": {
     "end_time": "2017-03-09T14:53:08.075092",
     "start_time": "2017-03-09T14:53:08.070954"
    },
    "collapsed": false,
    "deletable": true,
    "editable": true
   },
   "outputs": [
    {
     "name": "stdout",
     "output_type": "stream",
     "text": [
      "(bookmark:CLIENT) -> bitrepository-client-1.9-RC1\n",
      "/home/abr/Downloads/bitmag-release1.9-test/bitrepository-client-1.9-RC1\n"
     ]
    }
   ],
   "source": [
    "%cd -b CLIENT"
   ]
  },
  {
   "cell_type": "markdown",
   "metadata": {
    "deletable": true,
    "editable": true
   },
   "source": [
    "# Describes the tests needed to validate the GetChecksums functionality."
   ]
  },
  {
   "cell_type": "markdown",
   "metadata": {
    "deletable": true,
    "editable": true
   },
   "source": [
    "Upload a file with a known checksum for so we have something to test on"
   ]
  },
  {
   "cell_type": "code",
   "execution_count": 6,
   "metadata": {
    "ExecuteTime": {
     "end_time": "2017-03-09T14:53:17.019468",
     "start_time": "2017-03-09T14:53:17.015758"
    },
    "collapsed": false,
    "deletable": true,
    "editable": true
   },
   "outputs": [
    {
     "name": "stdout",
     "output_type": "stream",
     "text": [
      "env: TESTFILE1=massupload.sh\n"
     ]
    }
   ],
   "source": [
    "%env TESTFILE1 massupload.sh"
   ]
  },
  {
   "cell_type": "code",
   "execution_count": 7,
   "metadata": {
    "ExecuteTime": {
     "end_time": "2017-03-09T14:53:25.869592",
     "start_time": "2017-03-09T14:53:23.042339"
    },
    "collapsed": false,
    "deletable": true,
    "editable": true
   },
   "outputs": [],
   "source": [
    "!bin/bitmag.sh put-file -c integrationtest1 -f bin/$TESTFILE1 -i $TESTFILE1"
   ]
  },
  {
   "cell_type": "markdown",
   "metadata": {
    "deletable": true,
    "editable": true
   },
   "source": [
    "## Basic getChecksum"
   ]
  },
  {
   "cell_type": "code",
   "execution_count": 8,
   "metadata": {
    "ExecuteTime": {
     "end_time": "2017-03-09T14:53:29.631441",
     "start_time": "2017-03-09T14:53:29.520264"
    },
    "collapsed": false,
    "deletable": true,
    "editable": true
   },
   "outputs": [
    {
     "name": "stdout",
     "output_type": "stream",
     "text": [
      "598c634a8d589b44339cdbffcad1ad44  bin/massupload.sh\r\n"
     ]
    }
   ],
   "source": [
    "!md5sum bin/$TESTFILE1"
   ]
  },
  {
   "cell_type": "markdown",
   "metadata": {
    "deletable": true,
    "editable": true
   },
   "source": [
    "### Request the checksum of a file in the collection."
   ]
  },
  {
   "cell_type": "code",
   "execution_count": 9,
   "metadata": {
    "ExecuteTime": {
     "end_time": "2017-03-09T14:53:40.804510",
     "start_time": "2017-03-09T14:53:37.539662"
    },
    "collapsed": false,
    "deletable": true,
    "editable": true
   },
   "outputs": [
    {
     "name": "stdout",
     "output_type": "stream",
     "text": [
      "Count: \tChecksum: \tPillars: \tFileID: \n",
      "5 \t598c634a8d589b44339cdbffcad1ad44 \tAll \tmassupload.sh\n"
     ]
    }
   ],
   "source": [
    "!bin/bitmag.sh get-checksums -c integrationtest1 -i $TESTFILE1"
   ]
  },
  {
   "cell_type": "markdown",
   "metadata": {
    "deletable": true,
    "editable": true
   },
   "source": [
    "The correct checksum should be returned by all the pillars."
   ]
  },
  {
   "cell_type": "markdown",
   "metadata": {
    "deletable": true,
    "editable": true
   },
   "source": [
    "## getChecksum (salted)"
   ]
  },
  {
   "cell_type": "markdown",
   "metadata": {
    "deletable": true,
    "editable": true
   },
   "source": [
    "### Request the salted checksum of a file in the collection"
   ]
  },
  {
   "cell_type": "code",
   "execution_count": 10,
   "metadata": {
    "ExecuteTime": {
     "end_time": "2017-03-09T14:54:40.712078",
     "start_time": "2017-03-09T14:54:40.700322"
    },
    "collapsed": false,
    "deletable": true,
    "editable": true
   },
   "outputs": [
    {
     "name": "stdout",
     "output_type": "stream",
     "text": [
      "548de5b292b99df850c65bbfcffe68bc\n"
     ]
    }
   ],
   "source": [
    "import hmac\n",
    "import hashlib\n",
    "import base64\n",
    "\n",
    "def getSaltedChecksum(file,saltHex,algorithm):\n",
    "    #Note, the salt is a hex string\n",
    "    salt = bytearray.fromhex(saltHex)\n",
    "    digester = hmac.new(salt,None,algorithm)\n",
    "    with open(file,'rb') as from_fh:\n",
    "        while True:\n",
    "            chunk = from_fh.read()\n",
    "            if not chunk:\n",
    "                break\n",
    "            digester.update(chunk)\n",
    "    return digester.hexdigest().lower()\n",
    "\n",
    "file = 'bin/'+os.environ.get('TESTFILE1')\n",
    "print(getSaltedChecksum(file,saltHex='abcd',algorithm=hashlib.md5))"
   ]
  },
  {
   "cell_type": "code",
   "execution_count": 11,
   "metadata": {
    "ExecuteTime": {
     "end_time": "2017-03-09T14:54:49.735673",
     "start_time": "2017-03-09T14:54:46.400225"
    },
    "collapsed": false,
    "deletable": true,
    "editable": true
   },
   "outputs": [
    {
     "name": "stdout",
     "output_type": "stream",
     "text": [
      "Count: \tChecksum: \tPillars: \tFileID: \n",
      "4 \t548de5b292b99df850c65bbfcffe68bc \tAll \tmassupload.sh\n"
     ]
    }
   ],
   "source": [
    "!bin/bitmag.sh get-checksums -c integrationtest1 -i $TESTFILE -R HMAC_MD5 -S 'abcd'"
   ]
  },
  {
   "cell_type": "markdown",
   "metadata": {
    "deletable": true,
    "editable": true
   },
   "source": [
    "The correct salted checksum should be returned by all the pillars (except the ChecksumPillar)."
   ]
  },
  {
   "cell_type": "markdown",
   "metadata": {
    "deletable": true,
    "editable": true
   },
   "source": [
    "## Missing file"
   ]
  },
  {
   "cell_type": "markdown",
   "metadata": {
    "deletable": true,
    "editable": true
   },
   "source": [
    "Request the checksum of a file that does not exist in the collection."
   ]
  },
  {
   "cell_type": "code",
   "execution_count": 12,
   "metadata": {
    "ExecuteTime": {
     "end_time": "2017-03-09T14:55:05.938117",
     "start_time": "2017-03-09T14:55:03.479987"
    },
    "collapsed": false,
    "deletable": true,
    "editable": true
   },
   "outputs": [
    {
     "name": "stdout",
     "output_type": "stream",
     "text": [
      "looking for file 'hs.daolpussam'\n",
      "Count: \tChecksum: \tPillars: \tFileID: \n"
     ]
    }
   ],
   "source": [
    "%%bash\n",
    "BADFILE=$(echo $TESTFILE1 | rev)\n",
    "echo \"looking for file '$BADFILE'\"\n",
    "bin/bitmag.sh get-checksums -c integrationtest1 -i $BADFILE"
   ]
  },
  {
   "cell_type": "markdown",
   "metadata": {
    "deletable": true,
    "editable": true
   },
   "source": [
    "No results should be returned."
   ]
  }
 ],
 "metadata": {
  "kernelspec": {
   "display_name": "Python 3",
   "language": "python",
   "name": "python3"
  },
  "language_info": {
   "codemirror_mode": {
    "name": "ipython",
    "version": 3
   },
   "file_extension": ".py",
   "mimetype": "text/x-python",
   "name": "python",
   "nbconvert_exporter": "python",
   "pygments_lexer": "ipython3",
   "version": "3.5.2+"
  },
  "toc": {
   "colors": {
    "hover_highlight": "#DAA520",
    "running_highlight": "#FF0000",
    "selected_highlight": "#FFD700"
   },
   "moveMenuLeft": true,
   "nav_menu": {
    "height": "333px",
    "width": "252px"
   },
   "navigate_menu": true,
   "number_sections": true,
   "sideBar": true,
   "threshold": 4,
   "toc_cell": false,
   "toc_section_display": "block",
   "toc_window_display": true
  }
 },
 "nbformat": 4,
 "nbformat_minor": 2
}
